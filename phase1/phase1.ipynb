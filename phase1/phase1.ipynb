{
 "cells": [
  {
   "cell_type": "markdown",
   "metadata": {},
   "source": [
    "## The Clark-Wright Savings Algorithm\n",
    "\n",
    "The savings algorithm aims to find a solution to the Vechile Routing Problem (VRP). It starts off with a trivial solution where there are $n$ vehicles which deliver to $n$ nodes. It then merges routes based on the highest possible savings per merge. The idea is to be able to start with the image on the left and move to the image on the right. \n",
    "\n",
    "<img src=img/clark.png width=\"300\" height=\"200\" / >\n",
    "\n",
    "\n",
    "Basically the algorithm can be understood as follows: \n",
    "<ol>\n",
    "  <li>Start off with a trivial solution to the problem. That is, have one vechicle travel from the depot to each node.</li>\n",
    "  <li>Create a savings matrix such that s(i, j) = distance(i, depot) + distance(depot, j) - distance(i, j)</li>\n",
    "  <li>Sort your savings matrix so you consider the pairs with the highest savings first</li>\n",
    "  <li>Merge those nodes if they meet all the feasibility constraints</li>\n",
    "</ol>         \n"
   ]
  },
  {
   "cell_type": "markdown",
   "metadata": {},
   "source": [
    "TODO\n",
    "\n",
    "4. For savings list, use values that would occur if you merged closest carryin/prep "
   ]
  },
  {
   "cell_type": "markdown",
   "metadata": {},
   "source": [
    "# Reading in Data"
   ]
  },
  {
   "cell_type": "code",
   "execution_count": 58,
   "metadata": {
    "collapsed": true,
    "pycharm": {
     "is_executing": false
    }
   },
   "outputs": [],
   "source": [
    "import random\n",
    "from typing import Callable, List\n",
    "import pandas as pd\n",
    "import numpy  as np\n",
    "from graph import Graph\n",
    "from segment import Segment"
   ]
  },
  {
   "cell_type": "code",
   "execution_count": 59,
   "metadata": {},
   "outputs": [],
   "source": [
    "# Reading Data\n",
    "prep_carry_matches = pd.read_csv('data/prep-carry-matches2.csv')\n",
    "delivery_times     = pd.read_csv('data/delivery-times2.csv')\n",
    "timematrix         = pd.read_csv('data/time_matrix.csv')\n",
    "prep_carry_matches.replace({np.nan: None}, inplace=True)"
   ]
  },
  {
   "cell_type": "markdown",
   "metadata": {},
   "source": [
    "# Getting Ready for Savings Algorithm\n",
    "We need to create some functions and prepare the data before we can get started."
   ]
  },
  {
   "cell_type": "markdown",
   "metadata": {},
   "source": [
    "## Creating Segments\n",
    "Here, we're building the segments based on the given matching guidelines. That is, if some prep site delivers to some carry in sites, that's one segment."
   ]
  },
  {
   "cell_type": "code",
   "execution_count": 64,
   "metadata": {},
   "outputs": [],
   "source": [
    "# Defining all the segments. Each segment has one prep site, one/two carry-in sites, and one timewindow\n",
    "#\n",
    "# Ex: Segment 0 -> Prep Site = 450 | Carry-Ins = [604,] | Time-Window = (6:15, 7:15)\n",
    "#     Segment 1 -> Prep Site = 450 | Carry-Ins = [604,] | Time-Windwo = (9:30, 10:30)\n",
    "segments = []\n",
    "for i in prep_carry_matches.values.tolist():\n",
    "    obj = Segment(int(i[0]), int(i[1]), int(i[2]) if i[2] else None)\n",
    "    segments.append(obj)"
   ]
  },
  {
   "cell_type": "markdown",
   "metadata": {},
   "source": [
    "## Creating Distance Function\n",
    "This is to help us later. We have a csv file with the times from each school to another. So, to simplify accesing these times, we're creating a function, `distance(src, dst)` which takes in two school's three digit codes and returns the time it takes to go from one to the next."
   ]
  },
  {
   "cell_type": "code",
   "execution_count": 61,
   "metadata": {
    "tags": [
     "outputPrepend",
     "outputPrepend",
     "outputPrepend",
     "outputPrepend",
     "outputPrepend",
     "outputPrepend",
     "outputPrepend",
     "outputPrepend",
     "outputPrepend",
     "outputPrepend",
     "outputPrepend",
     "outputPrepend"
    ]
   },
   "outputs": [],
   "source": [
    "# Creating a distance function from the distance matrix\n",
    "# Given two school's 3 digit codes, it returns the distance in time between them\n",
    "# Ex: distance(981, 604) = 35.736\n",
    "origin      = list(timematrix['Origin_School'])\n",
    "destination = list(timematrix['Dest_School'])\n",
    "times       = list(timematrix['Total_TravelTime'])\n",
    "\n",
    "pairs = zip(origin, destination, times)\n",
    "distance_dictionary = {}\n",
    "for src, dst, time in pairs:\n",
    "    distance_dictionary[(src, dst)] = time\n",
    "\n",
    "def distance(src_, dst_):\n",
    "    return distance_dictionary[(src_, dst_)]"
   ]
  },
  {
   "cell_type": "markdown",
   "metadata": {},
   "source": [
    "## Creating Time Windows\n",
    "\n",
    "\n",
    "This part is a bit trickier. We need to create time windows for each of the segments. These are going to be used when we execute the savings algorithm to make sure we compute feasible routes. The time window for each segment is defined to be \n",
    "\n",
    "~~~\n",
    "(start = earliest time any carryin is visted, end = earliest time any carryin is left)\n",
    "~~~"
   ]
  },
  {
   "cell_type": "code",
   "execution_count": 62,
   "metadata": {},
   "outputs": [],
   "source": [
    "# Given a carryin site, it returns the scheulde for it's breakfast and lunch\n",
    "def time_lookup(carryin_: int):\n",
    "    for i in delivery_times.values:\n",
    "        if i[0] == carryin_:\n",
    "            return list(i)\n",
    "    raise Exception(f'carryin site {carryin_} not found')"
   ]
  },
  {
   "cell_type": "code",
   "execution_count": 63,
   "metadata": {},
   "outputs": [],
   "source": [
    "# Given two start and end times as strings, it converts the earliest of each to datetime format and returns it.\n",
    "def strict_window(start: str, end:str, start2 = '', end2 = ''):\n",
    "    if start == 'DIA':\n",
    "        start = '6:00 AM'\n",
    "    if start2 == 'DIA':\n",
    "        start2 = '6:00 AM'\n",
    "\n",
    "    if start2 == '' and end2 == '':\n",
    "        return (pd.to_datetime(start), pd.to_datetime(end))\n",
    "    start  = pd.to_datetime(start)\n",
    "    start2 = pd.to_datetime(start2)\n",
    "    end    = pd.to_datetime(end)\n",
    "    end2   = pd.to_datetime(end2)\n",
    "    if start2 < start:\n",
    "        start = pd.to_datetime(start2)\n",
    "\n",
    "    if end2 < end2:\n",
    "        end = pd.to_datetime(end2)\n",
    "\n",
    "    return(start, end)"
   ]
  },
  {
   "cell_type": "code",
   "execution_count": 65,
   "metadata": {},
   "outputs": [],
   "source": [
    "# Given all segments (assuming they have one or two carry-in sites), it builds time windows for those segments \n",
    "# It returns a dictionary which maps segments to time windows\n",
    "def window_builder(segments_: List[Segment]):\n",
    "    seen = {}\n",
    "    windows = {}\n",
    "    visited = {}\n",
    "    for seg in segments_:\n",
    "        for carry in [seg.carry1, seg.carry2]:\n",
    "            if carry not in visited:\n",
    "                visited[carry] = 1\n",
    "            else:\n",
    "                visited[carry] += 1\n",
    "\n",
    "    # For every segment, find the time constraints for the first carryin according to delivery_times.csv\n",
    "    for indx,seg in enumerate(segments_):\n",
    "        i = time_lookup(seg.carry1)\n",
    "        if visited[i[0]] == 2:\n",
    "            start = i[1]\n",
    "            end   = i[2]\n",
    "            visited[i[0]] -= 1\n",
    "        else:\n",
    "            start = i[3]\n",
    "            end   = i[4] \n",
    "        # If the next carry in is 0 (meaning there is only one carry in) then just add the window and move on\n",
    "        if seg.carry2 is None: \n",
    "            windows[indx] = strict_window(start, end)\n",
    "            continue\n",
    "\n",
    "        # If there is a second carry-in site, explore that one as well\n",
    "        i = time_lookup(seg.carry2)\n",
    "        if visited[i[0]] == 2:\n",
    "            start2 = i[1]\n",
    "            end2   = i[2]\n",
    "            visited[i[0]] -= 1\n",
    "        else:\n",
    "            start2 = i[3]\n",
    "            end2   = i[4] \n",
    "        # For segments which have two carry ins - find the approriate start and end time of the window\n",
    "        windows[indx] = strict_window(start, end, start2, end2)\n",
    "    return windows"
   ]
  },
  {
   "cell_type": "markdown",
   "metadata": {},
   "source": [
    "## Creating Service Times\n",
    "Here, we need to determine how long it takes to service every segment. \n",
    "\n",
    "- If we're visiting just one carryin site it's going to be \n",
    "\n",
    "        distance(prep, carry) + load + unload\n",
    "\n",
    " - If we're visiting two carryin sites, then it'll be \n",
    "\n",
    "        min(distance(prep,carry1), distance(prep,carry2)) + distance(carry1, carry2) + load + 2*unload\n",
    "\n",
    "What does that mean? It's saying the service time is the time it takes to go from the prep site to the closest carryin site and then going to the next carry in. We also have to account for the time it takes to load and unload food. We have to load once for every segment and unload "
   ]
  },
  {
   "cell_type": "code",
   "execution_count": 67,
   "metadata": {},
   "outputs": [],
   "source": [
    "# Calculates the service time for a segment given loading and unloading times\n",
    "def service_time_calc(segment_: Segment, load_: int, unload_: int):\n",
    "    to_car_1 = distance(segment_.prep, segment_.carry1)\n",
    "    if segment_.carry2 is None:\n",
    "        return to_car_1 + load_ + unload_\n",
    "    to_car_2 = distance(segment_.prep, segment_.carry2)\n",
    "    return min(to_car_1, to_car_2) + load_ + 2*unload_"
   ]
  },
  {
   "cell_type": "markdown",
   "metadata": {},
   "source": [
    "## Updating Segments \n",
    "Up until now, we did a lot of prep work to make functions that will fill in the fields for our segments. Here, we're using those functions so each `Segment()` object has its corresponding time window and service times. "
   ]
  },
  {
   "cell_type": "code",
   "execution_count": 71,
   "metadata": {},
   "outputs": [],
   "source": [
    "# Adding time_window and service_time fields to every segment\n",
    "def seg_builder(segments_: List[Segment], load_:int, unload_:int):\n",
    "    seg_windows = window_builder(segments_)\n",
    "    for indx,seg in enumerate(segments_):\n",
    "        seg.time_window = seg_windows[indx]\n",
    "        seg.service_time = service_time_calc(seg, load_, unload_)"
   ]
  },
  {
   "cell_type": "markdown",
   "metadata": {},
   "source": [
    "# Modified Savings Algorithm \n",
    "All the prep work is in place. We're ready to code the modified savings algorithm."
   ]
  },
  {
   "cell_type": "markdown",
   "metadata": {},
   "source": [
    "## Savings List\n",
    "First up, we need to create a list of savings. That is, we need to figure out how much time we can save by merging two segments and putting them on the same route"
   ]
  },
  {
   "cell_type": "code",
   "execution_count": 69,
   "metadata": {},
   "outputs": [],
   "source": [
    "# Creates a savings list for all segment pairs \n",
    "def savings_generator(segments_: List[Segment], depot_: int):\n",
    "    savings = []\n",
    "    for indx1, seg1 in enumerate(segments_):\n",
    "        for indx2,seg2 in enumerate(segments_):\n",
    "            if seg1 is seg2:\n",
    "                continue\n",
    "            save = distance(seg1.prep, depot_) + distance(depot_, seg2.prep) - distance(seg1.prep, seg2.prep)\n",
    "            savings.append((indx1, indx2, save))\n",
    "    savings.sort(key=lambda tup: tup[2])\n",
    "    return savings"
   ]
  },
  {
   "cell_type": "markdown",
   "metadata": {},
   "source": [
    "## Savings algorithm\n",
    "Here, we'll actually run the algorithm. The code is super short, but there's a lot going on under the hood within the `Graph()` class. You can see how the class is implemented in the `graph.py` file."
   ]
  },
  {
   "cell_type": "code",
   "execution_count": 70,
   "metadata": {},
   "outputs": [],
   "source": [
    "def savings_algorithm(segments_: List[Segment], distance_: Callable[[int, int], float]):\n",
    "    routes = Graph(segments_, distance_)\n",
    "    savings = savings_generator(segments, 0)\n",
    "    while savings:\n",
    "        topop = random.randint(len(savings)-5, len(savings)-1)\n",
    "        topop = topop if topop >=0 else 0\n",
    "        highest_savings = savings.pop()\n",
    "        routes.merge(highest_savings[0], highest_savings[1])\n",
    "    return routes"
   ]
  },
  {
   "cell_type": "code",
   "execution_count": 72,
   "metadata": {},
   "outputs": [
    {
     "output_type": "error",
     "ename": "NameError",
     "evalue": "name 'load' is not defined",
     "traceback": [
      "\u001b[0;31m---------------------------------------------------------------------------\u001b[0m",
      "\u001b[0;31mNameError\u001b[0m                                 Traceback (most recent call last)",
      "\u001b[0;32m<ipython-input-72-8edae62b3f93>\u001b[0m in \u001b[0;36m<module>\u001b[0;34m\u001b[0m\n\u001b[1;32m     16\u001b[0m         \u001b[0mstart\u001b[0m \u001b[0;34m+=\u001b[0m \u001b[0;36m1\u001b[0m\u001b[0;34m\u001b[0m\u001b[0;34m\u001b[0m\u001b[0m\n\u001b[1;32m     17\u001b[0m         \u001b[0mtoprint\u001b[0m \u001b[0;34m=\u001b[0m \u001b[0;34m\"\"\u001b[0m\u001b[0;34m\u001b[0m\u001b[0;34m\u001b[0m\u001b[0m\n\u001b[0;32m---> 18\u001b[0;31m \u001b[0mmain\u001b[0m\u001b[0;34m(\u001b[0m\u001b[0;34m)\u001b[0m\u001b[0;34m\u001b[0m\u001b[0;34m\u001b[0m\u001b[0m\n\u001b[0m",
      "\u001b[0;32m<ipython-input-72-8edae62b3f93>\u001b[0m in \u001b[0;36mmain\u001b[0;34m()\u001b[0m\n\u001b[1;32m      1\u001b[0m \u001b[0;32mdef\u001b[0m \u001b[0mmain\u001b[0m\u001b[0;34m(\u001b[0m\u001b[0;34m)\u001b[0m\u001b[0;34m:\u001b[0m\u001b[0;34m\u001b[0m\u001b[0;34m\u001b[0m\u001b[0m\n\u001b[0;32m----> 2\u001b[0;31m     \u001b[0mseg_builder\u001b[0m\u001b[0;34m(\u001b[0m\u001b[0msegments\u001b[0m\u001b[0;34m,\u001b[0m \u001b[0;36m10\u001b[0m\u001b[0;34m,\u001b[0m \u001b[0;36m10\u001b[0m\u001b[0;34m)\u001b[0m\u001b[0;34m\u001b[0m\u001b[0;34m\u001b[0m\u001b[0m\n\u001b[0m\u001b[1;32m      3\u001b[0m     \u001b[0mroutes\u001b[0m \u001b[0;34m=\u001b[0m \u001b[0;34m[\u001b[0m\u001b[0;34m]\u001b[0m\u001b[0;34m\u001b[0m\u001b[0;34m\u001b[0m\u001b[0m\n\u001b[1;32m      4\u001b[0m     \u001b[0my\u001b[0m \u001b[0;34m=\u001b[0m \u001b[0msavings_algorithm\u001b[0m\u001b[0;34m(\u001b[0m\u001b[0msegments\u001b[0m\u001b[0;34m,\u001b[0m \u001b[0mdistance\u001b[0m\u001b[0;34m)\u001b[0m\u001b[0;34m\u001b[0m\u001b[0;34m\u001b[0m\u001b[0m\n\u001b[1;32m      5\u001b[0m     \u001b[0;32mfor\u001b[0m \u001b[0mi\u001b[0m \u001b[0;32min\u001b[0m \u001b[0my\u001b[0m\u001b[0;34m.\u001b[0m\u001b[0mroutes\u001b[0m\u001b[0;34m:\u001b[0m\u001b[0;34m\u001b[0m\u001b[0;34m\u001b[0m\u001b[0m\n",
      "\u001b[0;32m<ipython-input-71-25e927cd2ff7>\u001b[0m in \u001b[0;36mseg_builder\u001b[0;34m(segments_, load_, unload_)\u001b[0m\n\u001b[1;32m      4\u001b[0m     \u001b[0;32mfor\u001b[0m \u001b[0mindx\u001b[0m\u001b[0;34m,\u001b[0m\u001b[0mseg\u001b[0m \u001b[0;32min\u001b[0m \u001b[0menumerate\u001b[0m\u001b[0;34m(\u001b[0m\u001b[0msegments_\u001b[0m\u001b[0;34m)\u001b[0m\u001b[0;34m:\u001b[0m\u001b[0;34m\u001b[0m\u001b[0;34m\u001b[0m\u001b[0m\n\u001b[1;32m      5\u001b[0m         \u001b[0mseg\u001b[0m\u001b[0;34m.\u001b[0m\u001b[0mtime_window\u001b[0m \u001b[0;34m=\u001b[0m \u001b[0mseg_windows\u001b[0m\u001b[0;34m[\u001b[0m\u001b[0mindx\u001b[0m\u001b[0;34m]\u001b[0m\u001b[0;34m\u001b[0m\u001b[0;34m\u001b[0m\u001b[0m\n\u001b[0;32m----> 6\u001b[0;31m         \u001b[0mseg\u001b[0m\u001b[0;34m.\u001b[0m\u001b[0mservice_time\u001b[0m \u001b[0;34m=\u001b[0m \u001b[0mservice_time_calc\u001b[0m\u001b[0;34m(\u001b[0m\u001b[0mseg\u001b[0m\u001b[0;34m,\u001b[0m \u001b[0mload_\u001b[0m\u001b[0;34m,\u001b[0m \u001b[0munload_\u001b[0m\u001b[0;34m)\u001b[0m\u001b[0;34m\u001b[0m\u001b[0;34m\u001b[0m\u001b[0m\n\u001b[0m",
      "\u001b[0;32m<ipython-input-67-e2b532f8f349>\u001b[0m in \u001b[0;36mservice_time_calc\u001b[0;34m(segment_, load_, unload_)\u001b[0m\n\u001b[1;32m      5\u001b[0m         \u001b[0;32mreturn\u001b[0m \u001b[0mto_car_1\u001b[0m \u001b[0;34m+\u001b[0m \u001b[0mload_\u001b[0m \u001b[0;34m+\u001b[0m \u001b[0munload_\u001b[0m\u001b[0;34m\u001b[0m\u001b[0;34m\u001b[0m\u001b[0m\n\u001b[1;32m      6\u001b[0m     \u001b[0mto_car_2\u001b[0m \u001b[0;34m=\u001b[0m \u001b[0mdistance\u001b[0m\u001b[0;34m(\u001b[0m\u001b[0msegment_\u001b[0m\u001b[0;34m.\u001b[0m\u001b[0mprep\u001b[0m\u001b[0;34m,\u001b[0m \u001b[0msegment_\u001b[0m\u001b[0;34m.\u001b[0m\u001b[0mcarry2\u001b[0m\u001b[0;34m)\u001b[0m\u001b[0;34m\u001b[0m\u001b[0;34m\u001b[0m\u001b[0m\n\u001b[0;32m----> 7\u001b[0;31m     \u001b[0;32mreturn\u001b[0m \u001b[0mmin\u001b[0m\u001b[0;34m(\u001b[0m\u001b[0mto_car_1\u001b[0m\u001b[0;34m,\u001b[0m \u001b[0mto_car_2\u001b[0m\u001b[0;34m)\u001b[0m \u001b[0;34m+\u001b[0m \u001b[0mload\u001b[0m \u001b[0;34m+\u001b[0m \u001b[0;36m2\u001b[0m\u001b[0;34m*\u001b[0m\u001b[0munload_\u001b[0m\u001b[0;34m\u001b[0m\u001b[0;34m\u001b[0m\u001b[0m\n\u001b[0m",
      "\u001b[0;31mNameError\u001b[0m: name 'load' is not defined"
     ]
    }
   ],
   "source": [
    "def main():\n",
    "    seg_builder(segments, 10, 10)\n",
    "    routes = []\n",
    "    y = savings_algorithm(segments, distance)\n",
    "    for i in y.routes:\n",
    "        if y.routes[i] not in routes:\n",
    "            routes.append(y.routes[i])\n",
    "    toprint = \"\"\n",
    "    start   = 1\n",
    "    for leg in routes:\n",
    "        for indx in leg:\n",
    "            seg = segments[indx]\n",
    "            toprint += f\"{seg.prep} -> {seg.carry1} -> {seg.carry2 if seg.carry2 else ''} -> \"\n",
    "        print(start, toprint)\n",
    "        print(\"\\n\")\n",
    "        start += 1\n",
    "        toprint = \"\"\n",
    "main()"
   ]
  },
  {
   "cell_type": "code",
   "execution_count": null,
   "metadata": {},
   "outputs": [],
   "source": []
  }
 ],
 "metadata": {
  "kernelspec": {
   "display_name": "Python 3",
   "language": "python",
   "name": "python3"
  },
  "language_info": {
   "codemirror_mode": {
    "name": "ipython",
    "version": 3
   },
   "file_extension": ".py",
   "mimetype": "text/x-python",
   "name": "python",
   "nbconvert_exporter": "python",
   "pygments_lexer": "ipython3",
   "version": "3.7.4-final"
  },
  "pycharm": {
   "stem_cell": {
    "cell_type": "raw",
    "metadata": {
     "collapsed": false
    },
    "source": []
   }
  }
 },
 "nbformat": 4,
 "nbformat_minor": 1
}