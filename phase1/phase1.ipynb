{
 "cells": [
  {
   "cell_type": "markdown",
   "metadata": {},
   "source": [
    "# Reading in Data"
   ]
  },
  {
   "cell_type": "code",
   "execution_count": 45,
   "metadata": {
    "collapsed": true,
    "pycharm": {
     "is_executing": false
    }
   },
   "outputs": [],
   "source": [
    "import random\n",
    "import copy\n",
    "from typing import Callable, List\n",
    "import pandas as pd\n",
    "import numpy  as np\n",
    "from graph import Graph\n",
    "from segment import Segment"
   ]
  },
  {
   "cell_type": "code",
   "execution_count": 46,
   "metadata": {},
   "outputs": [],
   "source": [
    "# Reading Data\n",
    "#prep_carry_matches = pd.read_csv('data/phase-two-matches.csv')\n",
    "prep_carry_matches = pd.read_csv('data/current-matches.csv')\n",
    "delivery_times     = pd.read_csv('data/delivery-times.csv')\n",
    "timematrix         = pd.read_csv('data/time_matrix2.csv')\n",
    "prep_carry_matches.replace({np.nan: None}, inplace=True)"
   ]
  },
  {
   "cell_type": "markdown",
   "metadata": {},
   "source": [
    "# Getting Ready for Savings Algorithm\n",
    "We need to create some functions and prepare the data before we can get started."
   ]
  },
  {
   "cell_type": "markdown",
   "metadata": {},
   "source": [
    "## Creating Segments\n",
    "Here, we're building the segments based on the given matching guidelines. That is, if some prep site delivers to some carry in sites, that's one segment."
   ]
  },
  {
   "cell_type": "code",
   "execution_count": 25,
   "metadata": {},
   "outputs": [],
   "source": [
    "# Defining all the segments. Each segment has one prep site, one/two carry-in sites, and one timewindow\n",
    "#\n",
    "# Ex: Segment 0 -> Prep Site = 450 | Carry-Ins = [604,] | Time-Window = (6:15, 7:15)\n",
    "#     Segment 1 -> Prep Site = 450 | Carry-Ins = [604,] | Time-Windwo = (9:30, 10:30)\n",
    "segments = []\n",
    "for i in prep_carry_matches.values.tolist():\n",
    "    obj = Segment(int(i[0]), int(i[1]), int(i[2]) if i[2] else None)\n",
    "    segments.append(obj)"
   ]
  },
  {
   "cell_type": "markdown",
   "metadata": {},
   "source": [
    "## Creating Distance Function\n",
    "This is to help us later. We have a csv file with the times from each school to another. So, to simplify accesing these times, we're creating a function, `distance(src, dst)` which takes in two school's three digit codes and returns the time it takes to go from one to the next."
   ]
  },
  {
   "cell_type": "code",
   "execution_count": 26,
   "metadata": {
    "tags": [
     "outputPrepend",
     "outputPrepend",
     "outputPrepend",
     "outputPrepend",
     "outputPrepend",
     "outputPrepend",
     "outputPrepend",
     "outputPrepend",
     "outputPrepend",
     "outputPrepend",
     "outputPrepend",
     "outputPrepend"
    ]
   },
   "outputs": [],
   "source": [
    "# Creating a distance function from the distance matrix\n",
    "# Given two school's 3 digit codes, it returns the distance in time between them\n",
    "# Ex: distance(981, 604) = 35.736\n",
    "origin      = list(timematrix['Origin'])\n",
    "destination = list(timematrix['Destination'])\n",
    "times       = list(timematrix['Travel Time'])\n",
    "\n",
    "pairs = zip(origin, destination, times)\n",
    "distance_dictionary = {}\n",
    "for src, dst, time in pairs:\n",
    "    distance_dictionary[(src, dst)] = time\n",
    "\n",
    "def distance(src_, dst_):\n",
    "    return distance_dictionary[(src_, dst_)]"
   ]
  },
  {
   "cell_type": "markdown",
   "metadata": {},
   "source": [
    "## Creating Time Windows\n",
    "\n",
    "\n",
    "This part is a bit trickier. We need to create time windows for each of the segments. These are going to be used when we execute the savings algorithm to make sure we compute feasible routes. The time window for each segment is defined to be \n",
    "\n",
    "~~~\n",
    "(start = earliest time any carryin is visted, end = earliest time any carryin is left)\n",
    "~~~"
   ]
  },
  {
   "cell_type": "code",
   "execution_count": 27,
   "metadata": {},
   "outputs": [],
   "source": [
    "# Given a carryin site, it returns the schedule for it's breakfast and lunch\n",
    "def time_lookup(carryin_: int):\n",
    "    for i in delivery_times.values:\n",
    "        if i[0] == carryin_:\n",
    "            return list(i)\n",
    "    raise Exception(f'carryin site {carryin_} not found')"
   ]
  },
  {
   "cell_type": "code",
   "execution_count": 28,
   "metadata": {},
   "outputs": [],
   "source": [
    "# Given all segments (assuming they have one or two carry-in sites), it builds time windows for those segments \n",
    "# It returns a dictionary which maps segments to time windows\n",
    "def window_builder(segments_: List[Segment]):\n",
    "    windows = {}\n",
    "    visited = {}\n",
    "    for seg in segments_:\n",
    "        for carry in [seg.carry1, seg.carry2]:\n",
    "            if carry not in visited:\n",
    "                visited[carry] = 1\n",
    "            else:\n",
    "                visited[carry] += 1\n",
    "    for indx, seg in enumerate(segments_):\n",
    "        starts = []\n",
    "        ends = []\n",
    "        for carry in [seg.carry1, seg.carry2]:\n",
    "            if carry is None:\n",
    "                continue\n",
    "            time = time_lookup(carry)\n",
    "            if visited[carry] == 2:\n",
    "                starts.append(time[1])\n",
    "                ends.append(time[2])\n",
    "                visited[carry] -= 1\n",
    "            else:\n",
    "                starts.append(time[3])\n",
    "                ends.append(time[4])\n",
    "        windows[indx] = strict_window(starts, ends, seg)\n",
    "    return windows "
   ]
  },
  {
   "cell_type": "code",
   "execution_count": 29,
   "metadata": {},
   "outputs": [],
   "source": [
    "# Given two start and end times as strings, it converts the earliest of each to datetime format and returns it.\n",
    "def strict_window(starts_: List[str], ends_: List[str], seg_: Segment):\n",
    "    for i in range(len(starts_)):\n",
    "        if starts_[i] == 'DIA':\n",
    "            starts_[i] =  '5:30 AM'\n",
    "    if len(starts_) == 1 and len(ends_) == 1:\n",
    "        early = pd.to_datetime(starts_[0]) - pd.Timedelta(distance(seg_.prep, seg_.carry1) + LOAD, unit='min')\n",
    "        late  = pd.to_datetime(ends_[0]) - pd.Timedelta(distance(seg_.prep, seg_.carry1) + LOAD, unit='min')\n",
    "        return (early, late)\n",
    "    \n",
    "    starts = [pd.to_datetime(i) for i in starts_]\n",
    "    ends = [pd.to_datetime(i) for i in ends_]\n",
    "    earlyindx = min(range(len(starts)), key=starts.__getitem__)\n",
    "    lateindx = min(range(len(ends)), key=ends.__getitem__)\n",
    "    dis_to_early = distance(seg_.carry2 if starts[earlyindx] else seg_.carry1, seg_.prep)\n",
    "    dis_between = distance(seg_.carry1, seg_.carry2)\n",
    "    early = starts[earlyindx] - pd.Timedelta(dis_to_early + LOAD, unit='min')\n",
    "    late = ends[lateindx] - pd.Timedelta(dis_to_early + dis_between + LOAD + UNLOAD, unit='min')\n",
    "\n",
    "    return(early, late)"
   ]
  },
  {
   "cell_type": "markdown",
   "metadata": {},
   "source": [
    "## Creating Service Times\n",
    "Here, we need to determine how long it takes to service every segment. \n",
    "\n",
    "- If we're visiting just one carryin site it's going to be \n",
    "\n",
    "        distance(prep, carry) + load + unload\n",
    "\n",
    " - If we're visiting two carryin sites, then it'll be \n",
    "\n",
    "        min(distance(prep,carry1), distance(prep,carry2)) + distance(carry1, carry2) + load + 2*unload\n",
    "\n",
    "What does that mean? It's saying the service time is the time it takes to go from the prep site to the closest carryin site and then going to the next carry in. We also have to account for the time it takes to load and unload food. We have to load once for every segment and unload "
   ]
  },
  {
   "cell_type": "code",
   "execution_count": 30,
   "metadata": {},
   "outputs": [],
   "source": [
    "# Calculates the service time for a segment given loading and unloading times\n",
    "def service_time_calc(segment_: Segment):\n",
    "    to_car_1 = distance(segment_.prep, segment_.carry1)\n",
    "    if segment_.carry2 is None:\n",
    "        return to_car_1 + LOAD + UNLOAD\n",
    "    to_car_2 = distance(segment_.prep, segment_.carry2)\n",
    "    return min(to_car_1, to_car_2) + distance(segment_.carry1, segment_.carry2) + LOAD + 2*UNLOAD"
   ]
  },
  {
   "cell_type": "markdown",
   "metadata": {},
   "source": [
    "## Updating Segments \n",
    "Up until now, we did a lot of prep work to make functions that will fill in the fields for our segments. Here, we're using those functions so each `Segment()` object has its corresponding time window and service times. "
   ]
  },
  {
   "cell_type": "code",
   "execution_count": 31,
   "metadata": {},
   "outputs": [],
   "source": [
    "# Adding time_window and service_time fields to every segment\n",
    "def seg_builder(segments_: List[Segment]):\n",
    "    seg_windows = window_builder(segments_)\n",
    "    for indx,seg in enumerate(segments_):\n",
    "        seg.time_window = seg_windows[indx]\n",
    "        seg.service_time = service_time_calc(seg)"
   ]
  },
  {
   "cell_type": "markdown",
   "metadata": {},
   "source": [
    "# Modified Savings Algorithm \n",
    "All the prep work is in place. We're ready to code the modified savings algorithm."
   ]
  },
  {
   "cell_type": "markdown",
   "metadata": {},
   "source": [
    "## Savings List\n",
    "First up, we need to create a list of savings. That is, we need to figure out how much time we can save by merging two segments and putting them on the same route"
   ]
  },
  {
   "cell_type": "code",
   "execution_count": 32,
   "metadata": {},
   "outputs": [],
   "source": [
    "# Creates a savings list for all segment pairs \n",
    "def savings_generator(segments_: List[Segment], depot_: int):\n",
    "    savings = []\n",
    "    for indx1, seg1 in enumerate(segments_):\n",
    "        for indx2,seg2 in enumerate(segments_):\n",
    "            if seg1 is seg2:\n",
    "                continue\n",
    "            save = savings_helper(seg1, seg2, depot_)\n",
    "            savings.append((indx1, indx2, save))\n",
    "    savings.sort(key=lambda tup: tup[2])\n",
    "    return savings"
   ]
  },
  {
   "cell_type": "code",
   "execution_count": 33,
   "metadata": {},
   "outputs": [],
   "source": [
    "def savings_helper(seg1_: Segment, seg2_: Segment, depot_: int):\n",
    "    if seg1_.carry2 is None:\n",
    "        cross = distance(seg1_.carry1, seg2_.prep)\n",
    "    else:\n",
    "        cross = min(distance(seg1_.carry1, seg2_.prep), distance(seg1_.carry2, seg2_.prep))\n",
    "    return -cross"
   ]
  },
  {
   "cell_type": "markdown",
   "metadata": {},
   "source": [
    "## Savings algorithm\n",
    "Here, we'll actually run the algorithm. The code is super short, but there's a lot going on under the hood within the `Graph()` class. You can see how the class is implemented in the `graph.py` file.\n",
    "\n",
    "Notice that we have two versions of the savings algorithm. One that uses randomization with 100 iterations and gives you the best solution and one with no randomization and gives you an answer based on a pure greedy heuristic. "
   ]
  },
  {
   "cell_type": "code",
   "execution_count": 47,
   "metadata": {},
   "outputs": [],
   "source": [
    "# Greedy w/ Randomization\n",
    "def savings_algorithm(segments_: List[Segment], distance_: Callable[[int, int], float]):\n",
    "    random.seed(0)\n",
    "    i = float('inf')\n",
    "    j = None\n",
    "    for x in range(100):\n",
    "        routes = Graph(segments_, distance_)\n",
    "        savings = savings_generator(segments, 0)\n",
    "        while savings:\n",
    "            topop = max(0, random.randint(len(savings)-10, len(savings)-1))\n",
    "            highest_savings = savings.pop(topop)\n",
    "            routes.merge(highest_savings[0], highest_savings[1])\n",
    "        if len(routes.get_routes()) < i:\n",
    "            i = len(routes.get_routes())\n",
    "            j = copy.copy(routes)\n",
    "    return j"
   ]
  },
  {
   "cell_type": "code",
   "execution_count": 35,
   "metadata": {},
   "outputs": [],
   "source": [
    "# Pure Greedy\n",
    "def savings_algorithm(segments_: List[Segment], distance_: Callable[[int, int], float]):\n",
    "    routes = Graph(segments_, distance_)\n",
    "    savings = savings_generator(segments, 0)\n",
    "    while savings:\n",
    "        highest_savings = savings.pop()\n",
    "        routes.merge(highest_savings[0], highest_savings[1])\n",
    "    return routes"
   ]
  },
  {
   "cell_type": "code",
   "execution_count": 48,
   "metadata": {},
   "outputs": [],
   "source": [
    "LOAD = 9\n",
    "UNLOAD = 9\n",
    "seg_builder(segments)\n",
    "segments[12].service_time = 180\n",
    "y = savings_algorithm(segments, distance)\n",
    "x = y.get_routes()"
   ]
  },
  {
   "cell_type": "code",
   "execution_count": 49,
   "metadata": {},
   "outputs": [
    {
     "output_type": "stream",
     "name": "stdout",
     "text": "\nROUTE 0\n982,516,None\n408,316,158\n450,604,None\n408,158,316\n982,516,None\n450,604,None\n\nROUTE 1\n971,117,None\n292,181,None\n971,117,None\n150,161,None\n292,181,None\n\nROUTE 2\n423,477,801\n423,490,None\n464,499,None\n301,438,None\n423,477,801\n464,436,None\n275,533,None\n423,490,None\n464,499,None\n\nROUTE 3\n451,212,None\n457,328,None\n214,192,None\n451,213,None\n214,192,None\n451,212,213\n248,168,None\n\nROUTE 4\n278,178,None\n405,264,None\n412,223,203\n437,252,None\n457,328,None\n190,750,None\n\nROUTE 5\n455,605,383\n455,488,None\n455,383,None\n455,488,605\n218,999,None\n\nROUTE 6\n984,394,None\n\nROUTE 7\n415,426,None\n682,532,602\n682,515,None\n461,479,478\n682,891,None\n415,426,473\n461,479,478\n682,497,515\n682,532,None\n682,602,None\n\nROUTE 8\n981,110,None\n419,522,None\n981,110,None\n419,522,None\n424,509,None\n\nROUTE 9\n150,161,None\n258,179,None\n258,179,None\n"
    }
   ],
   "source": [
    "for route in x:\n",
    "    route.sort(key=lambda seg: (segments[seg].time_window[0], segments[seg].time_window[1]))\n",
    "for indx,route in enumerate(x):\n",
    "    print(f\"\\nROUTE {indx}\")\n",
    "    for seg in route:\n",
    "        ref = segments[seg]\n",
    "        print(f\"{ref.prep},{ref.carry1},{ref.carry2}\")"
   ]
  }
 ],
 "metadata": {
  "kernelspec": {
   "display_name": "Python 3",
   "language": "python",
   "name": "python3"
  },
  "language_info": {
   "codemirror_mode": {
    "name": "ipython",
    "version": 3
   },
   "file_extension": ".py",
   "mimetype": "text/x-python",
   "name": "python",
   "nbconvert_exporter": "python",
   "pygments_lexer": "ipython3",
   "version": "3.7.4-final"
  },
  "pycharm": {
   "stem_cell": {
    "cell_type": "raw",
    "metadata": {
     "collapsed": false
    },
    "source": []
   }
  }
 },
 "nbformat": 4,
 "nbformat_minor": 1
}