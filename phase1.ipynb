{
 "cells": [
  {
   "cell_type": "markdown",
   "metadata": {},
   "source": [
    "## The Clark-Wright Savings Algorithm\n",
    "\n",
    "The savings algorithm aims to find a solution to the Vechile Routing Problem (VRP). It starts off with a trivial solution where there are $n$ vehicles which deliver to $n$ nodes. It then merges routes based on the highest possible savings per merge. The idea is to be able to start with the image on the left and move to the image on the right. \n",
    "\n",
    "<img src=img/clark.png width=\"300\" height=\"200\" />\n",
    "\n",
    "\n",
    "Basically the algorithm can be understood as follows: \n",
    "<ol>\n",
    "  <li>Start off with a trivial solution to the problem. That is, have one vechicle travel from the depot to each node.</li>\n",
    "  <li>Create a savings matrix such that s(i, j) = distance(i, depot) + distance(depot, j) - distance(i, j)</li>\n",
    "  <li>Sort your savings matrix so you consider the pairs with the highest savings first</li>\n",
    "  <li>Merge those nodes if they meet all the feasibility constraints</li>\n",
    "</ol>         \n"
   ]
  },
  {
   "cell_type": "markdown",
   "metadata": {},
   "source": [
    "TODO\n",
    "1) Part 2\n",
    "2) Create a segment class with fields carry, prep1, prep2 ... "
   ]
  },
  {
   "cell_type": "code",
   "execution_count": null,
   "metadata": {
    "collapsed": true,
    "pycharm": {
     "is_executing": false
    }
   },
   "outputs": [],
   "source": [
    "import pandas as pd\n",
    "import numpy  as np\n",
    "from graph import Graph"
   ]
  },
  {
   "cell_type": "code",
   "execution_count": null,
   "metadata": {},
   "outputs": [],
   "source": [
    "# Reading Data\n",
    "timedf             = pd.read_csv('data/PrepSiteTimeMatrix.csv', header=0, index_col=0)\n",
    "prep_carry_matches = pd.read_csv('data/prep-carry-matches2.csv')\n",
    "delivery_times     = pd.read_csv('data/delivery-times2.csv')\n",
    "timematrix         = pd.read_csv('data/time_matrix.csv')\n",
    "prep_carry_matches = prep_carry_matches.fillna(0)"
   ]
  },
  {
   "cell_type": "code",
   "execution_count": 152,
   "metadata": {
    "tags": [
     "outputPrepend",
     "outputPrepend",
     "outputPrepend",
     "outputPrepend",
     "outputPrepend",
     "outputPrepend",
     "outputPrepend",
     "outputPrepend",
     "outputPrepend",
     "outputPrepend",
     "outputPrepend",
     "outputPrepend"
    ]
   },
   "outputs": [],
   "source": [
    "# Creating a distance function from the distance matrix\n",
    "# Given two school's 3 digit codes, it returns the distance in time between them\n",
    "# Ex: distance(981, 604) = 35.736\n",
    "origin = list(timematrix['ODLines1_Origin_School'])\n",
    "destination = list(timematrix['ODLines1_Destination_School'])\n",
    "times = list(timematrix['ODLines1_Total_TravelTime'])\n",
    "pairs = zip(origin, destination, times)\n",
    "distance_dictionary = {}\n",
    "for src, dst, time in pairs:\n",
    "    distance_dictionary[(src, dst)] = time\n",
    "\n",
    "def distance(src_, dst_):\n",
    "    return distance_dictionary[(src_, dst_)]"
   ]
  },
  {
   "cell_type": "markdown",
   "metadata": {},
   "source": [
    "# Creating Segments"
   ]
  },
  {
   "cell_type": "code",
   "execution_count": null,
   "metadata": {},
   "outputs": [],
   "source": [
    "# Defining all the segments. Each segment has one prep site, one/two carry-in sites, and one timewindow\n",
    "#\n",
    "# Ex: Segment 0 -> Prep Site = 450 | Carry-Ins = [604,] | Time-Window = (6:15, 7:15)\n",
    "#     Segment 1 -> Prep Site = 450 | Carry-Ins = [604,] | Time-Windwo = (9:30, 10:30)\n",
    "segments = []\n",
    "for i in prep_carry_matches.values.tolist():\n",
    "    x = (int(i[0]), int(i[1]), int(i[2]))\n",
    "    segments.append(x)"
   ]
  },
  {
   "cell_type": "markdown",
   "metadata": {},
   "source": [
    "# Creating Time Windows"
   ]
  },
  {
   "cell_type": "code",
   "execution_count": null,
   "metadata": {},
   "outputs": [],
   "source": [
    "# Given a carryin site, it returns the scheulde for it's breakfast and lunch\n",
    "def time_lookup(carryin_):\n",
    "    for i in delivery_times.values:\n",
    "        if i[0] == carryin_:\n",
    "            return list(i)\n",
    "    raise Exception(f'carryin site {carryin_} not found')"
   ]
  },
  {
   "cell_type": "code",
   "execution_count": null,
   "metadata": {},
   "outputs": [],
   "source": [
    "# Given two start and end times, it converts the earliest of each to datetime format and returns it.\n",
    "def strict_window(start, end, start2 = 0, end2 = 0):\n",
    "    if start == 'DIA':\n",
    "        start = '6:00 AM'\n",
    "    if start2 == 'DIA':\n",
    "        start2 = '6:00 AM'\n",
    "\n",
    "    if start2 == 0 and end2 == 0:\n",
    "        return (pd.to_datetime(start), pd.to_datetime(end))\n",
    "    start  = pd.to_datetime(start)\n",
    "    start2 = pd.to_datetime(start2)\n",
    "    end    = pd.to_datetime(end)\n",
    "    end2   = pd.to_datetime(end2)\n",
    "    if start2 < start:\n",
    "        start = pd.to_datetime(start2)\n",
    "\n",
    "    if end2 < end2:\n",
    "        end = pd.to_datetime(end2)\n",
    "\n",
    "    return(start, end)"
   ]
  },
  {
   "cell_type": "code",
   "execution_count": null,
   "metadata": {},
   "outputs": [],
   "source": [
    "# Given all segments (assuming they have one or two carry-in sites), it builds time windows for those segments \n",
    "# The start of a window is considered the earliest arrival time, and the end of a window is considered the \n",
    "# earliest departure time\n",
    "def window_builder(segments_):\n",
    "    seen = {}\n",
    "    windows = {}\n",
    "    visited = {}\n",
    "    for segment_ in segments_:\n",
    "        for carry in segment_[1:]:\n",
    "            if carry not in visited:\n",
    "                visited[carry] = 1\n",
    "            else:\n",
    "                visited[carry] += 1\n",
    "\n",
    "    # For every segment, find the time constraints for the first carryin according to delivery_times.csv\n",
    "    for indx,segment_ in enumerate(segments_):\n",
    "        carryin1 = segment_[1]\n",
    "        carryin2 = segment_[2]\n",
    "\n",
    "        i = time_lookup(carryin1)\n",
    "        # If breakfast is delivered a day in advance, there is no breakfast, or we've already accounted for breakfast,\n",
    "        # then this segment adheres to the lunch time schedule\n",
    "        if visited[i[0]] == 2:\n",
    "            start = i[1]\n",
    "            end   = i[2]\n",
    "            visited[i[0]] -= 1\n",
    "        else:\n",
    "            start = i[3]\n",
    "            end   = i[4] \n",
    "        # If the next carry in is 0 (meaning there is only one carry in) then just add the window and move on\n",
    "        if carryin2 == 0: \n",
    "            windows[indx] = strict_window(start, end)\n",
    "            continue\n",
    "\n",
    "        # If there is a second carry-in site, explore that one as well\n",
    "        i = time_lookup(carryin2)\n",
    "        if visited[i[0]] == 2:\n",
    "            start2 = i[1]\n",
    "            end2   = i[2]\n",
    "            visited[i[0]] -= 1\n",
    "        else:\n",
    "            start2 = i[3]\n",
    "            end2   = i[4] \n",
    "        # For segments which have two carry ins - find the approriate start and end time of the window\n",
    "        windows[indx] = strict_window(start, end, start2, end2)\n",
    "    return windows\n",
    "        "
   ]
  },
  {
   "cell_type": "markdown",
   "metadata": {},
   "source": [
    "# Creating Service Times"
   ]
  },
  {
   "cell_type": "code",
   "execution_count": null,
   "metadata": {},
   "outputs": [],
   "source": [
    "# Calculates the service time for a segment\n",
    "def service_time_calc(segment_):\n",
    "    if segment_ == 0:\n",
    "        return distance(segment_[0])"
   ]
  },
  {
   "cell_type": "code",
   "execution_count": null,
   "metadata": {},
   "outputs": [],
   "source": [
    "# Getting prep sites\n",
    "# Expressing distance matrix as list of lists \n",
    "# Marking the depot as having code '0'\n",
    "prep = timedf.index.values \n",
    "dist = [list(i) for i in list(timedf.values)]\n",
    "depot = 0 "
   ]
  },
  {
   "cell_type": "code",
   "execution_count": null,
   "metadata": {},
   "outputs": [],
   "source": [
    "## Building a dictionary which maps a prep site's 3 digit code to it's node in the graph\n",
    "## site_to_indx[174] -> 0\n",
    "site_to_indx = {}\n",
    "for indx, site in enumerate(prep):\n",
    "    site_to_indx[site] = indx"
   ]
  },
  {
   "cell_type": "code",
   "execution_count": null,
   "metadata": {},
   "outputs": [],
   "source": [
    "## Takes two prep sites and returns the distance between them. Distances are not symetrical. \n",
    "## (174, 1109) -> 14.74\n",
    "## (1109, 174) -> 15.59\n",
    "def distance(i, j):\n",
    "    return dist[site_to_indx[i]][site_to_indx[j]]"
   ]
  },
  {
   "cell_type": "code",
   "execution_count": null,
   "metadata": {},
   "outputs": [],
   "source": [
    "## Calculates the savings from merging two prep sites i, j. \n",
    "def savings(prep_, depot_, distance_):\n",
    "    savings = []\n",
    "    for i in prep_:\n",
    "        if i == depot_: continue\n",
    "        for j in prep_:\n",
    "            if (j==depot_) or (i==j): \n",
    "                continue \n",
    "            i_cost = distance(i, depot_)\n",
    "            j_cost = distance(depot_, i)\n",
    "            ij_cost = distance(i, j)\n",
    "            save = i_cost + j_cost - ij_cost\n",
    "            savings.append(((i,j), save))\n",
    "    return savings"
   ]
  },
  {
   "cell_type": "code",
   "execution_count": null,
   "metadata": {},
   "outputs": [],
   "source": [
    "## Sort the savings such that highest savings is on bottom\n",
    "savings_ls = savings(prep, depot, dist)\n",
    "savings_ls.sort(key=lambda tup: tup[1])"
   ]
  },
  {
   "cell_type": "code",
   "execution_count": null,
   "metadata": {},
   "outputs": [],
   "source": [
    "## Creating a graph and applying the savings algorithm\n",
    "graph = Graph(prep, depot)\n",
    "i = 0\n",
    "while i<1000:\n",
    "    x = savings_ls.pop()\n",
    "    node1 = x[0][0]\n",
    "    node2 = x[0][1]\n",
    "    if not graph.is_node_interior(node1) and not graph.is_node_interior(node2):\n",
    "        if not graph.on_same_route(x[0]):\n",
    "            graph.merge(x[0])\n",
    "    i += 1"
   ]
  },
  {
   "cell_type": "code",
   "execution_count": null,
   "metadata": {},
   "outputs": [],
   "source": [
    "# libraries\n",
    "import networkx as nx\n",
    "import matplotlib.pyplot as plt\n",
    " \n",
    "# Build the dataframe for the graph\n",
    "selected_arcs = list(graph.arcs)\n",
    "start = [i[0] for i in selected_arcs]\n",
    "end = [i[1] for i in selected_arcs]\n",
    "df = pd.DataFrame({ 'from':start, 'to':end})\n",
    " \n",
    "# Build your graph\n",
    "G=nx.from_pandas_edgelist(df, 'from', 'to')\n",
    " \n",
    " \n",
    "# Plot it\n",
    "nx.draw(G, with_labels=True)\n",
    "plt.show()\n"
   ]
  }
 ],
 "metadata": {
  "kernelspec": {
   "display_name": "Python 3",
   "language": "python",
   "name": "python3"
  },
  "language_info": {
   "codemirror_mode": {
    "name": "ipython",
    "version": 3
   },
   "file_extension": ".py",
   "mimetype": "text/x-python",
   "name": "python",
   "nbconvert_exporter": "python",
   "pygments_lexer": "ipython3",
   "version": "3.7.4-final"
  },
  "pycharm": {
   "stem_cell": {
    "cell_type": "raw",
    "metadata": {
     "collapsed": false
    },
    "source": []
   }
  }
 },
 "nbformat": 4,
 "nbformat_minor": 1
}