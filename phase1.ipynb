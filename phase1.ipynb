{
 "cells": [
  {
   "cell_type": "markdown",
   "metadata": {},
   "source": [
    "## The Savings Algorithm\n",
    "\n",
    "In one picture, this is what the savings algorithm hopes to do: \n",
    "\n",
    "<img src=img/clark.png width=\"300\" height=\"200\" />\n",
    "\n",
    "\n",
    "Basically the algorithm can be understood as follows: \n",
    "<ol>\n",
    "  <li>Start off with a trivial solution to the problem. That is, have one vechicle travel from the depot to each node.</li>\n",
    "  <li>Create a savings matrix such that s(i, j) = distance(i, depot) + distance(depot, j) - distance(i, j)</li>\n",
    "  <li>Sort your savings matrix so you consider the pairs with the highest savings first</li>\n",
    "  <li>Merge those nodes if </li>\n",
    "</ol>         \n"
   ]
  },
  {
   "cell_type": "code",
   "execution_count": 80,
   "metadata": {
    "collapsed": true,
    "pycharm": {
     "is_executing": false
    }
   },
   "outputs": [],
   "source": [
    "import pandas as pd\n",
    "import numpy  as np\n",
    "\n",
    "# Reading Data\n",
    "timedf = pd.read_csv('PrepSiteTimeMatrix.csv', nrows=41, dtype={0:int}, header=0, index_col=0)\n",
    "windows = pd.read_csv('timewindows.csv', nrows=39, index_col=0)"
   ]
  },
  {
   "cell_type": "code",
   "execution_count": 81,
   "metadata": {},
   "outputs": [],
   "source": [
    "prep = timedf.index.values # List of all prep sites (in prepsite matrix)\n",
    "dist = [list(i) for i in list(timedf.values)] # Distance matrix as list of lists \n",
    "depot = 981 # Don't know where the warehouse is, using Evie Dennis as depot for now"
   ]
  },
  {
   "cell_type": "code",
   "execution_count": 82,
   "metadata": {},
   "outputs": [],
   "source": [
    "## Building a dictionary which maps a prep site's 3 digit code to it's node in the graph\n",
    "## site_to_indx[174] = 0\n",
    "site_to_indx = {}\n",
    "for indx, site in enumerate(prep):\n",
    "    site_to_indx[site] = indx"
   ]
  },
  {
   "cell_type": "code",
   "execution_count": 120,
   "metadata": {},
   "outputs": [],
   "source": [
    "## Takes two prep sites and returns the distance between them. Distances are not symetrical. \n",
    "## (174, 1109) -> 14.74\n",
    "## (1109, 174) -> 15.59\n",
    "def distance(i, j):\n",
    "    return dist[site_to_indx[i]][site_to_indx[j]]"
   ]
  },
  {
   "cell_type": "code",
   "execution_count": 121,
   "metadata": {},
   "outputs": [],
   "source": [
    "## Calculates the savings from merging two prep sites i, j. \n",
    "## Using Evie Dennis as the depot, and we're assuming that distances are symetrical for now.\n",
    "savings = []\n",
    "for i in prep:\n",
    "    if i == depot: continue\n",
    "    for j in prep:\n",
    "        if j == depot: continue \n",
    "        if i == j: continue \n",
    "        i_cost = distance(i, depot)\n",
    "        j_cost = distance(depot, i)\n",
    "        ij_cost = distance(i, j)\n",
    "        save = i_cost + j_cost - ij_cost\n",
    "        savings.append(((i,j), save))"
   ]
  },
  {
   "cell_type": "code",
   "execution_count": 122,
   "metadata": {},
   "outputs": [],
   "source": [
    "## Sort the savings such that highest savings is on bottom\n",
    "savings.sort(key=lambda tup: tup[1])"
   ]
  },
  {
   "cell_type": "code",
   "execution_count": 123,
   "metadata": {},
   "outputs": [],
   "source": [
    "class Graph:\n",
    "    prepsites = []  # A list of the prepsites \n",
    "    arcs = set()    # A set of the arcs in the graph rn\n",
    "    route = {}      # Dictionary that holds lists (adjaceny list) - 0 if two nodes are not in the same route, 1 otherwise\n",
    "    depot = 0       # The school code for the depot\n",
    "\n",
    "    def __init__(self, prep, depot):\n",
    "        self.prepsites = prep\n",
    "        self.arcs = set()\n",
    "        self.depot = depot            \n",
    "        for i in prep:\n",
    "            if i != depot:\n",
    "                self.arcs.add((i,depot))\n",
    "                self.arcs.add((depot,i))\n",
    "                self.route[i] = []\n",
    "\n",
    "    def add_arc(self, arc):\n",
    "        self.arcs.add(arc)\n",
    "        self.route[arc[0]].append(arc[1])\n",
    "        self.route[arc[1]].append(arc[0])\n",
    "    \n",
    "    def remove_arc(self, arc):\n",
    "        self.arcs.remove(arc)\n",
    "\n",
    "    def is_node_interior(self, node):\n",
    "        node_depot = (node, depot)\n",
    "        depot_node = (depot, node)\n",
    "        return not ((node_depot in self.arcs) or (depot_node in self.arcs))\n",
    "\n",
    "    def on_same_route(self, arc):\n",
    "        return arc[1] in self.route[arc[0]]\n",
    "\n",
    "    def is_arc_interior(self, arc):\n",
    "        node1 = self.is_node_interior(arc[0])\n",
    "        node2 = self.is_node_interior(arc[1])\n",
    "        return (not node1) and (not node2)\n",
    "    \n",
    "    def merge(self, arc):\n",
    "        if (arc[0],depot) in self.arcs:\n",
    "            if (arc[1], depot) in self.arcs:\n",
    "                self.remove_arc((arc[0], depot))\n",
    "                self.remove_arc((arc[1], depot))\n",
    "                self.add_arc(arc)\n",
    "                return\n",
    "            if (depot, arc[1]) in self.arcs:\n",
    "                self.remove_arc((arc[0], depot))\n",
    "                self.remove_arc((depot, arc[1]))\n",
    "                self.add_arc(arc)\n",
    "                return\n",
    "        if (depot, arc[0]) in self.arcs:\n",
    "            if (arc[1], depot) in self.arcs:\n",
    "                self.remove_arc((depot, arc[0]))\n",
    "                self.remove_arc((arc[1], depot))\n",
    "                self.add_arc(arc)\n",
    "                return\n",
    "            if (depot, arc[1]) in self.arcs:\n",
    "                self.remove_arc((depot, arc[0]))\n",
    "                self.remove_arc((depot, arc[1]))\n",
    "                self.add_arc(arc)\n",
    "                return\n",
    "\n",
    "    def print_arcs(self):\n",
    "        print(self.arcs)\n",
    "    "
   ]
  },
  {
   "cell_type": "code",
   "execution_count": 124,
   "metadata": {},
   "outputs": [],
   "source": [
    "graph = Graph(prep, depot)\n",
    "while savings:\n",
    "    x = savings.pop()\n",
    "    node1 = x[0][0]\n",
    "    node2 = x[0][1]\n",
    "    if not graph.is_node_interior(node1) and not graph.is_node_interior(node2):\n",
    "        if not graph.on_same_route(x[0]):\n",
    "            graph.merge(x[0])\n",
    "    "
   ]
  },
  {
   "cell_type": "code",
   "execution_count": 125,
   "metadata": {},
   "outputs": [
    {
     "output_type": "stream",
     "name": "stdout",
     "text": "{(437, 278), (150, 258), (984, 450), (458, 218), (983, 311), (196, 1109), (174, 971), (418, 450), (248, 417), (455, 423), (196, 419), (424, 1109), (448, 218), (459, 258), (424, 419), (457, 452), (174, 301), (461, 458), (418, 984), (408, 415), (983, 292), (457, 417), (214, 451), (982, 415), (405, 412), (451, 464), (448, 1102), (982, 408), (390, 459), (412, 190), (214, 464), (390, 150), (248, 423), (311, 292), (190, 452), (405, 278), (437, 413), (301, 971), (455, 1102), (461, 413)}\n"
    }
   ],
   "source": [
    "graph.print_arcs()"
   ]
  },
  {
   "cell_type": "code",
   "execution_count": 2,
   "metadata": {},
   "outputs": [
    {
     "output_type": "error",
     "ename": "ModuleNotFoundError",
     "evalue": "No module named 'networkx'",
     "traceback": [
      "\u001b[0;31m---------------------------------------------------------------------------\u001b[0m",
      "\u001b[0;31mModuleNotFoundError\u001b[0m                       Traceback (most recent call last)",
      "\u001b[0;32m<ipython-input-2-100028c5ce9d>\u001b[0m in \u001b[0;36m<module>\u001b[0;34m\u001b[0m\n\u001b[1;32m      2\u001b[0m \u001b[0;32mimport\u001b[0m \u001b[0mpandas\u001b[0m \u001b[0;32mas\u001b[0m \u001b[0mpd\u001b[0m\u001b[0;34m\u001b[0m\u001b[0;34m\u001b[0m\u001b[0m\n\u001b[1;32m      3\u001b[0m \u001b[0;32mimport\u001b[0m \u001b[0mnumpy\u001b[0m \u001b[0;32mas\u001b[0m \u001b[0mnp\u001b[0m\u001b[0;34m\u001b[0m\u001b[0;34m\u001b[0m\u001b[0m\n\u001b[0;32m----> 4\u001b[0;31m \u001b[0;32mimport\u001b[0m \u001b[0mnetworkx\u001b[0m \u001b[0;32mas\u001b[0m \u001b[0mnx\u001b[0m\u001b[0;34m\u001b[0m\u001b[0;34m\u001b[0m\u001b[0m\n\u001b[0m\u001b[1;32m      5\u001b[0m \u001b[0;32mimport\u001b[0m \u001b[0mmatplotlib\u001b[0m\u001b[0;34m.\u001b[0m\u001b[0mpyplot\u001b[0m \u001b[0;32mas\u001b[0m \u001b[0mplt\u001b[0m\u001b[0;34m\u001b[0m\u001b[0;34m\u001b[0m\u001b[0m\n\u001b[1;32m      6\u001b[0m \u001b[0;34m\u001b[0m\u001b[0m\n",
      "\u001b[0;31mModuleNotFoundError\u001b[0m: No module named 'networkx'"
     ]
    }
   ],
   "source": [
    "# libraries\n",
    "import pandas as pd\n",
    "import numpy as np\n",
    "import networkx as nx\n",
    "import matplotlib.pyplot as plt\n",
    " \n",
    "# Build a dataframe with 4 connections\n",
    "df = pd.DataFrame({ 'from':['A', 'B', 'C','A'], 'to':['D', 'A', 'E','C']})\n",
    "df\n",
    " \n",
    "# Build your graph\n",
    "G=nx.from_pandas_dataframe(df, 'from', 'to')\n",
    " \n",
    " \n",
    "# Plot it\n",
    "nx.draw(G, with_labels=True)\n",
    "plt.show()\n"
   ]
  },
  {
   "cell_type": "code",
   "execution_count": null,
   "metadata": {},
   "outputs": [],
   "source": []
  }
 ],
 "metadata": {
  "kernelspec": {
   "display_name": "Python 3.8.0 64-bit",
   "language": "python",
   "name": "python38064bitd42b91920efd4ffa9cc790356c762e89"
  },
  "language_info": {
   "codemirror_mode": {
    "name": "ipython",
    "version": 3
   },
   "file_extension": ".py",
   "mimetype": "text/x-python",
   "name": "python",
   "nbconvert_exporter": "python",
   "pygments_lexer": "ipython3",
   "version": "3.8.0-final"
  },
  "pycharm": {
   "stem_cell": {
    "cell_type": "raw",
    "metadata": {
     "collapsed": false
    },
    "source": []
   }
  }
 },
 "nbformat": 4,
 "nbformat_minor": 1
}