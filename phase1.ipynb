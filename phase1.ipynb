{
 "cells": [
  {
   "cell_type": "markdown",
   "metadata": {},
   "source": [
    "## The Clark-Wright Savings Algorithm\n",
    "\n",
    "The savings algorithm aims to find a solution to the Vechile Routing Problem (VRP). It starts off with a trivial solution where there are $n$ vehicles which deliver to $n$ nodes. It then merges routes based on the highest possible savings per merge. The idea is to be able to start with the image on the left and move to the image on the right. \n",
    "\n",
    "<img src=img/clark.png width=\"300\" height=\"200\" />\n",
    "\n",
    "\n",
    "Basically the algorithm can be understood as follows: \n",
    "<ol>\n",
    "  <li>Start off with a trivial solution to the problem. That is, have one vechicle travel from the depot to each node.</li>\n",
    "  <li>Create a savings matrix such that s(i, j) = distance(i, depot) + distance(depot, j) - distance(i, j)</li>\n",
    "  <li>Sort your savings matrix so you consider the pairs with the highest savings first</li>\n",
    "  <li>Merge those nodes if they meet all the feasibility constraints</li>\n",
    "</ol>         \n"
   ]
  },
  {
   "cell_type": "code",
   "execution_count": null,
   "metadata": {
    "collapsed": true,
    "pycharm": {
     "is_executing": false
    }
   },
   "outputs": [],
   "source": [
    "import pandas as pd\n",
    "import numpy  as np\n",
    "from graph import Graph"
   ]
  },
  {
   "cell_type": "code",
   "execution_count": null,
   "metadata": {},
   "outputs": [],
   "source": [
    "# Reading Data\n",
    "timedf             = pd.read_csv('data/PrepSiteTimeMatrix.csv', header=0, index_col=0)\n",
    "prep_carry_matches = pd.read_csv('data/prep-carry-matches.csv')\n",
    "time_window_df     = pd.read_csv('data/delivery-times.csv')\n",
    "prep_carry_matches = prep_carry_matches.fillna(0)"
   ]
  },
  {
   "cell_type": "code",
   "execution_count": 173,
   "metadata": {},
   "outputs": [
    {
     "output_type": "execute_result",
     "data": {
      "text/plain": "[(450, 604, 0),\n (450, 604, 0),\n (292, 181, 0),\n (292, 181, 0),\n (423, 490, 0),\n (423, 490, 0),\n (423, 477, 801),\n (214, 192, 0),\n (437, 252, 0),\n (218, 999, 0),\n (888, 889, 0),\n (682, 891, 0),\n (682, 532, 602),\n (682, 515, 0),\n (682, 602, 0),\n (682, 497, 515),\n (682, 532, 0),\n (461, 479, 478),\n (461, 479, 478),\n (451, 213, 0),\n (451, 212, 0),\n (451, 212, 213),\n (981, 110, 0),\n (405, 264, 0),\n (258, 179, 0),\n (248, 168, 0),\n (301, 438, 0),\n (408, 316, 158),\n (408, 316, 158),\n (982, 516, 0),\n (464, 499, 0),\n (464, 499, 0),\n (464, 436, 0),\n (412, 223, 203),\n (419, 522, 0),\n (419, 522, 0),\n (424, 509, 0),\n (455, 383, 0),\n (455, 605, 383),\n (455, 488, 0),\n (455, 488, 605),\n (150, 161, 0),\n (190, 750, 0),\n (415, 426, 0),\n (415, 426, 473),\n (971, 117, 0),\n (275, 533, 0),\n (278, 178, 0),\n (457, 328, 0)]"
     },
     "metadata": {},
     "execution_count": 173
    }
   ],
   "source": [
    "# Defining all the segments. Each segment has one prep site and one/two carry in sites. Each segment also has \n",
    "# a time window for when it can be served. \n",
    "\n",
    "# Ex: Segment 0 -> Prep Site = 450 | Carry-Ins = [604,] | Time-Window = (6:15, 7:15)\n",
    "#     Segment 1 -> Prep Site = 450 | Carry-Ins = [604,] | Time-Windwo = (9:30, 10:30)\n",
    "segments = []\n",
    "for i in prep_carry_matches.values.tolist():\n",
    "    x = (int(i[0]), int(i[1]), int(i[2]))\n",
    "    segments.append(x)\n",
    "segments"
   ]
  },
  {
   "cell_type": "code",
   "execution_count": 174,
   "metadata": {},
   "outputs": [],
   "source": [
    "# Given a segment that has one or two carry-in sites, it builds a time window for that segment\n",
    "# The start of the window is considered the earliest arrival time, and the end of the window is considered the \n",
    "# earliest departure time\n",
    "\n",
    "def window_builder(segment_, seen_):\n",
    "    if 889 in segment_: return 889\n",
    "    for i in time_window_df.values.tolist():\n",
    "        if i[0] == segment_[1]: \n",
    "            first = i\n",
    "            break\n",
    "    if (first[1] == 'DIA') or (pd.isna(first[1])) or (first[0] in seen_):\n",
    "        start = i[3]\n",
    "        end   = i[4]\n",
    "    else:\n",
    "        start = i[1]\n",
    "        end = i[2]\n",
    "        seen_[i[0]] = True\n",
    "    if segment_[2] == 0: \n",
    "        return (pd.to_datetime(start), pd.to_datetime(end))\n",
    "\n",
    "    # If there is a second carry-in site, explore that one as well\n",
    "    for i in time_window_df.values.tolist():\n",
    "        if i[0] == segment_[1]: \n",
    "            second = i\n",
    "            break\n",
    "    if (second[1] == 'DIA') or (pd.isna(second[1])) or (second[0] in seen):\n",
    "        start2 = i[3]\n",
    "        end2   = i[4]\n",
    "    else:\n",
    "        start = i[1]\n",
    "        end = i[2]\n",
    "        seen[i[0]] = True \n",
    "\n",
    "    # Compare between the two start and end times\n",
    "    if pd.to_datetime(start) < pd.to_datetime(start2):\n",
    "        start = pd.to_datetime(start)\n",
    "    else: \n",
    "        start = pd.to_datetime(start2)\n",
    "    \n",
    "    if pd.to_datetime(end) < pd.to_datetime(end2):\n",
    "        end = pd.to_datetime(end)\n",
    "    else:\n",
    "        end = pd.to_datetime(end2)\n",
    "\n",
    "    return (start, end)\n",
    "        "
   ]
  },
  {
   "cell_type": "code",
   "execution_count": 175,
   "metadata": {},
   "outputs": [
    {
     "output_type": "stream",
     "name": "stdout",
     "text": "[(450, 604, 0), (450, 604, 0), (292, 181, 0), (292, 181, 0), (423, 490, 0), (423, 490, 0), (423, 477, 801), (214, 192, 0), (437, 252, 0), (218, 999, 0), (888, 889, 0), (682, 891, 0), (682, 532, 602), (682, 515, 0), (682, 602, 0), (682, 497, 515), (682, 532, 0), (461, 479, 478), (461, 479, 478), (451, 213, 0), (451, 212, 0), (451, 212, 213), (981, 110, 0), (405, 264, 0), (258, 179, 0), (248, 168, 0), (301, 438, 0), (408, 316, 158), (408, 316, 158), (982, 516, 0), (464, 499, 0), (464, 499, 0), (464, 436, 0), (412, 223, 203), (419, 522, 0), (419, 522, 0), (424, 509, 0), (455, 383, 0), (455, 605, 383), (455, 488, 0), (455, 488, 605), (150, 161, 0), (190, 750, 0), (415, 426, 0), (415, 426, 473), (971, 117, 0), (275, 533, 0), (278, 178, 0), (457, 328, 0)]\n"
    },
    {
     "output_type": "execute_result",
     "data": {
      "text/plain": "{0: (Timestamp('2020-05-11 06:15:00'), Timestamp('2020-05-11 07:15:00')),\n 1: (Timestamp('2020-05-11 09:30:00'), Timestamp('2020-05-11 10:30:00')),\n 2: (Timestamp('2020-05-11 06:10:00'), Timestamp('2020-05-11 07:10:00')),\n 3: (Timestamp('2020-05-11 09:45:00'), Timestamp('2020-05-11 10:45:00')),\n 4: (Timestamp('2020-05-11 07:00:00'), Timestamp('2020-05-11 08:00:00')),\n 5: (Timestamp('2020-05-11 10:15:00'), Timestamp('2020-05-11 11:15:00')),\n 6: (Timestamp('2020-05-11 09:15:00'), Timestamp('2020-05-11 11:15:00')),\n 7: (Timestamp('2020-05-11 08:45:00'), Timestamp('2020-05-11 10:45:00')),\n 8: (Timestamp('2020-05-11 03:45:00'), Timestamp('2020-05-11 11:45:00')),\n 9: (Timestamp('2020-05-11 09:45:00'), Timestamp('2020-05-11 10:45:00')),\n 10: 889,\n 11: (Timestamp('2020-05-11 08:15:00'), Timestamp('2020-05-11 09:15:00')),\n 12: (Timestamp('2020-05-11 06:30:00'), Timestamp('2020-05-11 07:30:00')),\n 13: (Timestamp('2020-05-11 06:30:00'), Timestamp('2020-05-11 07:30:00')),\n 14: (Timestamp('2020-05-11 07:30:00'), Timestamp('2020-05-11 07:45:00')),\n 15: (Timestamp('2020-05-11 10:00:00'), Timestamp('2020-05-11 11:00:00')),\n 16: (Timestamp('2020-05-11 10:50:00'), Timestamp('2020-05-11 11:50:00')),\n 17: (Timestamp('2020-05-11 06:45:00'), Timestamp('2020-05-11 07:45:00')),\n 18: (Timestamp('2020-05-11 09:35:00'), Timestamp('2020-05-11 10:35:00')),\n 19: (Timestamp('2020-05-11 08:00:00'), Timestamp('2020-05-11 08:15:00')),\n 20: (Timestamp('2020-05-11 09:00:00'), Timestamp('2020-05-11 11:00:00')),\n 21: (Timestamp('2020-05-11 09:00:00'), Timestamp('2020-05-11 11:00:00')),\n 22: (Timestamp('2020-05-11 08:40:00'), Timestamp('2020-05-11 10:40:00')),\n 23: (Timestamp('2020-05-11 02:45:00'), Timestamp('2020-05-11 10:45:00')),\n 24: (Timestamp('2020-05-11 08:15:00'), Timestamp('2020-05-11 10:15:00')),\n 25: (Timestamp('2020-05-11 09:15:00'), Timestamp('2020-05-11 11:15:00')),\n 26: (Timestamp('2020-05-11 08:32:00'), Timestamp('2020-05-11 10:32:00')),\n 27: (Timestamp('2020-05-11 06:25:00'), Timestamp('2020-05-11 07:25:00')),\n 28: (Timestamp('2020-05-11 09:15:00'), Timestamp('2020-05-11 10:15:00')),\n 29: (Timestamp('2020-05-11 08:45:00'), Timestamp('2020-05-11 10:45:00')),\n 30: (Timestamp('2020-05-11 07:30:00'), Timestamp('2020-05-11 07:45:00')),\n 31: (Timestamp('2020-05-11 11:15:00'), Timestamp('2020-05-11 11:30:00')),\n 32: (Timestamp('2020-05-11 09:30:00'), Timestamp('2020-05-11 11:30:00')),\n 33: (Timestamp('2020-05-11 03:15:00'), Timestamp('2020-05-11 11:15:00')),\n 34: (Timestamp('2020-05-11 06:15:00'), Timestamp('2020-05-11 07:15:00')),\n 35: (Timestamp('2020-05-11 09:56:00'), Timestamp('2020-05-11 10:56:00')),\n 36: (Timestamp('2020-05-11 10:59:00'), Timestamp('2020-05-11 11:14:00')),\n 37: (Timestamp('2020-05-11 06:25:00'), Timestamp('2020-05-11 07:25:00')),\n 38: (Timestamp('2020-05-11 08:35:00'), Timestamp('2020-05-11 10:35:00')),\n 39: (Timestamp('2020-05-11 05:45:00'), Timestamp('2020-05-11 06:45:00')),\n 40: (Timestamp('2020-05-11 09:45:00'), Timestamp('2020-05-11 10:45:00')),\n 41: (Timestamp('2020-05-11 08:45:00'), Timestamp('2020-05-11 10:45:00')),\n 42: (Timestamp('2020-05-11 09:45:00'), Timestamp('2020-05-11 10:45:00')),\n 43: (Timestamp('2020-05-11 08:30:00'), Timestamp('2020-05-11 10:30:00')),\n 44: (Timestamp('2020-05-11 08:30:00'), Timestamp('2020-05-11 10:30:00')),\n 45: (Timestamp('2020-05-11 08:35:00'), Timestamp('2020-05-11 10:35:00')),\n 46: (Timestamp('2020-05-11 09:30:00'), Timestamp('2020-05-11 11:30:00')),\n 47: (Timestamp('2020-05-11 02:30:00'), Timestamp('2020-05-11 10:30:00')),\n 48: (Timestamp('2020-05-11 08:45:00'), Timestamp('2020-05-11 10:45:00'))}"
     },
     "metadata": {},
     "execution_count": 175
    }
   ],
   "source": [
    "timewindow = {}\n",
    "seen = {}\n",
    "for indx, val in enumerate(segments):\n",
    "    timewindow[indx] = window_builder(val, seen)\n",
    "print(segments)\n",
    "timewindow"
   ]
  },
  {
   "cell_type": "code",
   "execution_count": null,
   "metadata": {},
   "outputs": [],
   "source": [
    "[int(i[0]) for i in prep_carry_matches.values]\n",
    "int( prep_carry_matches['Carry-In Site 2'])"
   ]
  },
  {
   "cell_type": "code",
   "execution_count": null,
   "metadata": {},
   "outputs": [],
   "source": [
    "# Getting prep sites\n",
    "# Expressing distance matrix as list of lists \n",
    "# Marking the depot as having code '0'\n",
    "prep = timedf.index.values \n",
    "dist = [list(i) for i in list(timedf.values)]\n",
    "depot = 0 "
   ]
  },
  {
   "cell_type": "code",
   "execution_count": null,
   "metadata": {},
   "outputs": [],
   "source": [
    "## Building a dictionary which maps a prep site's 3 digit code to it's node in the graph\n",
    "## site_to_indx[174] -> 0\n",
    "site_to_indx = {}\n",
    "for indx, site in enumerate(prep):\n",
    "    site_to_indx[site] = indx"
   ]
  },
  {
   "cell_type": "code",
   "execution_count": null,
   "metadata": {},
   "outputs": [],
   "source": [
    "## Takes two prep sites and returns the distance between them. Distances are not symetrical. \n",
    "## (174, 1109) -> 14.74\n",
    "## (1109, 174) -> 15.59\n",
    "def distance(i, j):\n",
    "    return dist[site_to_indx[i]][site_to_indx[j]]"
   ]
  },
  {
   "cell_type": "code",
   "execution_count": null,
   "metadata": {},
   "outputs": [],
   "source": [
    "## Calculates the savings from merging two prep sites i, j. \n",
    "def savings(prep_, depot_, distance_):\n",
    "    savings = []\n",
    "    for i in prep_:\n",
    "        if i == depot_: continue\n",
    "        for j in prep_:\n",
    "            if (j==depot_) or (i==j): \n",
    "                continue \n",
    "            i_cost = distance(i, depot_)\n",
    "            j_cost = distance(depot_, i)\n",
    "            ij_cost = distance(i, j)\n",
    "            save = i_cost + j_cost - ij_cost\n",
    "            savings.append(((i,j), save))\n",
    "    return savings"
   ]
  },
  {
   "cell_type": "code",
   "execution_count": null,
   "metadata": {},
   "outputs": [],
   "source": [
    "## Sort the savings such that highest savings is on bottom\n",
    "savings_ls = savings(prep, depot, dist)\n",
    "savings_ls.sort(key=lambda tup: tup[1])"
   ]
  },
  {
   "cell_type": "code",
   "execution_count": null,
   "metadata": {},
   "outputs": [],
   "source": [
    "## Creating a graph and applying the savings algorithm\n",
    "graph = Graph(prep, depot)\n",
    "i = 0\n",
    "while i<1000:\n",
    "    x = savings_ls.pop()\n",
    "    node1 = x[0][0]\n",
    "    node2 = x[0][1]\n",
    "    if not graph.is_node_interior(node1) and not graph.is_node_interior(node2):\n",
    "        if not graph.on_same_route(x[0]):\n",
    "            graph.merge(x[0])\n",
    "    i += 1"
   ]
  },
  {
   "cell_type": "code",
   "execution_count": null,
   "metadata": {},
   "outputs": [],
   "source": [
    "# libraries\n",
    "import networkx as nx\n",
    "import matplotlib.pyplot as plt\n",
    " \n",
    "# Build the dataframe for the graph\n",
    "selected_arcs = list(graph.arcs)\n",
    "start = [i[0] for i in selected_arcs]\n",
    "end = [i[1] for i in selected_arcs]\n",
    "df = pd.DataFrame({ 'from':start, 'to':end})\n",
    " \n",
    "# Build your graph\n",
    "G=nx.from_pandas_edgelist(df, 'from', 'to')\n",
    " \n",
    " \n",
    "# Plot it\n",
    "nx.draw(G, with_labels=True)\n",
    "plt.show()\n"
   ]
  }
 ],
 "metadata": {
  "kernelspec": {
   "display_name": "Python 3",
   "language": "python",
   "name": "python3"
  },
  "language_info": {
   "codemirror_mode": {
    "name": "ipython",
    "version": 3
   },
   "file_extension": ".py",
   "mimetype": "text/x-python",
   "name": "python",
   "nbconvert_exporter": "python",
   "pygments_lexer": "ipython3",
   "version": "3.7.4-final"
  },
  "pycharm": {
   "stem_cell": {
    "cell_type": "raw",
    "metadata": {
     "collapsed": false
    },
    "source": []
   }
  }
 },
 "nbformat": 4,
 "nbformat_minor": 1
}