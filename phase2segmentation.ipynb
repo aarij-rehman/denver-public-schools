{
 "cells": [
  {
   "cell_type": "code",
   "execution_count": null,
   "metadata": {},
   "outputs": [],
   "source": [
    "# Takes the output of phase2assignment and builds segments based on the pairings made\n",
    "# pairing: bunch of tuples (carry1,prep1); (carry2, prep1)\n",
    "# segments: a list of sites starting at a prep site and ending at some carry in site\n",
    "# no more than 2(?) carry ins per site\n",
    "# have time windows come in here? \n",
    "# automatically put breakfasts on same segments and lunches on others? "
   ]
  },
  {
   "cell_type": "code",
   "execution_count": 74,
   "metadata": {},
   "outputs": [
    {
     "name": "stdout",
     "output_type": "stream",
     "text": [
      "Total distance (km) = 120.52767157400005\n"
     ]
    }
   ],
   "source": [
    "%run ./phase2assignment.ipynb\n",
    "# Comment out in phase2assignment whatever you don't want re-printing here\n",
    "# runs phase2 so that all of those outputs/functions are easily used here "
   ]
  },
  {
   "cell_type": "code",
   "execution_count": null,
   "metadata": {},
   "outputs": [],
   "source": [
    "def demand_sum(carry_list):\n",
    "    # Total demand of the sites in any given sized list\n",
    "    demand = 0\n",
    "    for c in carry_ins:\n",
    "        demand = demand + carry_in_dict[c]\n",
    "    return demand"
   ]
  },
  {
   "cell_type": "code",
   "execution_count": 6,
   "metadata": {},
   "outputs": [],
   "source": [
    "vehicle_capacity = 800\n",
    "max_segment_length = 2"
   ]
  },
  {
   "cell_type": "code",
   "execution_count": 7,
   "metadata": {},
   "outputs": [],
   "source": [
    "# Get all unique prep site values into one list\n",
    "unique_prep = []\n",
    "for key in assignments.keys():\n",
    "    prep = key[1]\n",
    "    if prep not in unique_prep:\n",
    "        unique_prep.append(prep)"
   ]
  },
  {
   "cell_type": "code",
   "execution_count": 76,
   "metadata": {},
   "outputs": [],
   "source": [
    "# Make dict of 1:1 pairings into condensed dict where a prep set now points to a list of every carry in it serves\n",
    "prep_list = {}\n",
    "for p in unique_prep:\n",
    "    prep_list[p] = []\n",
    "    # key p now points to empty list\n",
    "    for key in assignments.keys():\n",
    "        if p == key[1]:\n",
    "            prep_list[p].append(key[0])\n",
    "            ## take k[0] and add it to list that p points to in prep_list"
   ]
  },
  {
   "cell_type": "code",
   "execution_count": null,
   "metadata": {},
   "outputs": [],
   "source": [
    "def segment_optimization(prep, list_of_carry_ins):\n",
    "    solver = pywraplp.Solver('SolveAssignmentProblemMIP',pywraplp.Solver.CBC_MIXED_INTEGER_PROGRAMMING)\n",
    "    dummies = [0] * 4\n",
    "    for i in range(dummies):\n",
    "        dummies[i] = prep + i # (makes them distinct from each other if not from every site)\n",
    "        \n",
    "    carry_in_site_number = len(list_of_carry_ins)\n",
    "    prep_site_number = len(dummies)\n",
    "    bools = {}\n",
    "    \n",
    "    for i in carry_in_site_number:\n",
    "        for j in prep_site_number: \n",
    "            bools[(i, j)] = solver.BoolVar('bool[%i,%i]' % (i, j))\n",
    "            \n",
    "    # What to minimize? \n",
    "    solver.Minimize(solver.Sum([costs[(i,j)]*segments[(i,j)]\n",
    "                                        for i in carry_in_site_number\n",
    "                                        for j in prep_site_number]))\n",
    "            \n",
    "    for i in carry_in_site_number: # carry in can only be assigned to one dummy site\n",
    "        solver.Add(solver.Sum([bools[(i,j)] for j in prep_site_number]) == 1)\n",
    "        \n",
    "    for j in prep_site_number: \n",
    "        # a dummy prep can have max 2 carry ins assigned to it\n",
    "        solver.Add(solver.Sum([bools[(i,j)] for i in carry_in_site_number]) <= 2)\n",
    "        \n",
    "        # a segment cannot require more than the max vehicle capacity\n",
    "        solver.Add(solver.Sum([bools[(i,j)]*carry_in_dict[i] for i in carry_in_site_number]) <= vehicle_capacity)\n",
    "    # copy code from part 1\n",
    "    # new constraints: \n",
    "    # for i in carry_in_site_number:\n",
    "    # solver.Add(solver.Sum([bools[(i,j)] for j in prep_site_number]) == 1)\n",
    "    # solver.Add(solver.Sum([bools[(i,j)] for i in carry_in_site_number]) <= 2)\n",
    "    # segment cannot handle more than the vehicle capacity \n",
    "    # solver.Add(solver.Sum([bools[(i,j)]*carry_in_dict[i] for i in carryins]) <= vehicle_capacity)\n",
    "    #dummies = {} \n",
    "    # declare solver\n",
    "    # declare variables (similar to part 1)\n",
    "    # declare constraints (vehicle capacity, number of sites)"
   ]
  },
  {
   "cell_type": "code",
   "execution_count": 77,
   "metadata": {
    "scrolled": true
   },
   "outputs": [
    {
     "data": {
      "text/plain": [
       "{419: [110, 1171],\n",
       " 408: [158],\n",
       " 301: [161, 509],\n",
       " 455: [168, 605, 3830, 3831, 4880, 4881],\n",
       " 190: [178, 252],\n",
       " 150: [179],\n",
       " 248: [192, 4990],\n",
       " 412: [203, 223],\n",
       " 464: [212, 436, 4991],\n",
       " 405: [264],\n",
       " 457: [328, 750],\n",
       " 450: [394, 6040, 6041],\n",
       " 415: [426],\n",
       " 451: [438],\n",
       " 218: [473, 4781, 4790, 5150, 5151],\n",
       " 423: [477, 801, 2130, 2131, 4900, 4901],\n",
       " 682: [497, 891, 4780, 6020, 6021],\n",
       " 982: [516, 3160, 3161],\n",
       " 275: [533],\n",
       " 437: [999, 4791],\n",
       " 424: [1170],\n",
       " 971: [1810, 1811],\n",
       " 981: [5220, 5221, 5320, 5321]}"
      ]
     },
     "execution_count": 77,
     "metadata": {},
     "output_type": "execute_result"
    }
   ],
   "source": [
    "prep_list"
   ]
  },
  {
   "cell_type": "code",
   "execution_count": 59,
   "metadata": {},
   "outputs": [],
   "source": [
    "## build segments for each of these keys\n",
    "#constraints: vehicle capacity, number of segments\n",
    "#objective: fewest possible segments\n",
    "\n",
    "## make multiple 'prep' sites and build segments based on that \n",
    "# ex: for 423,4230,4231,4232,etc... \n",
    "# assign based on vehicle capacity & "
   ]
  },
  {
   "cell_type": "code",
   "execution_count": 65,
   "metadata": {},
   "outputs": [],
   "source": [
    "## If just one carry in site, leave as is\n",
    "\n",
    "# for prep in prep_list.keys():\n",
    "#    carry_ins = prep_list[prep]\n",
    "#    if len(carry_ins) == 1:\n",
    "#        final_segments[prep] = carry_ins\n",
    "\n",
    "## If two, check distance, if significant, separate (significant distance = ?)\n",
    "    # if len(carry_ins) == 2:\n",
    "    #    if carry_in_dict[carry_ins[0]] + carry_in_dict[carry_ins[1]] >= vehicle_capacity:\n",
    "    #      final_segments[prep] = [[carry_ins[0]],[carry_ins[1]]]\n",
    "     #   else: do the string length comparisons \n",
    "    ## If different endings, group separately\n",
    "    ##  str1 = str(carry_ins[0])\n",
    "    ## len1 = len(str1)\n",
    "    ##  str2 = str(carry_ins[1])\n",
    "    ## len2 = len(str2)\n",
    "        # if len1 == 4 and len2 == 4:\n",
    "            # if str1[3] == str2[3]:\n",
    "            # same segment\n",
    "        # if len1 == 3:\n",
    "            # len2 == 3:\n",
    "                # both lunch\n",
    "            #elif str2[3] == 1\n",
    "                # both lunch\n",
    "            #else: different\n",
    "        # if len2 == 3:\n",
    "            # if len1 == 4:\n",
    "                # if str1[3] == 1: both lunch\n",
    "                #else: different\n",
    "            #else: same \n",
    "            \n",
    "    ## both can be lunch, both can be breakfast, or they can be different (can be lunch if 4 dig ending with 1 or 3 dig)\n",
    "        \n",
    "    # if len(str(carry_ins[0])) == 4\n",
    "    # if distance < whatever:\n",
    "        # final_segments[prep] = [carry_ins] (makes the result a list of the two sites, which implies they're segmented together)\n",
    "## for more than two, create dummy prep sites (4231,4232,4233,4234,etc)\n",
    "## Assign up to two carry ins to each dummy site, considering vehicle constraints, whether breakfast/lunch, and proximity\n",
    "## "
   ]
  },
  {
   "cell_type": "code",
   "execution_count": null,
   "metadata": {},
   "outputs": [],
   "source": [
    "## re-designed version of part i\n",
    "## make a bunch of pseudo prep sites for all of the preps and assign carry ins to the pseudo preps to build segments\n",
    "    # group breakfast and lunches together, unless they're v far apart \n",
    "## don't need to do if count of carry in < 3"
   ]
  },
  {
   "cell_type": "code",
   "execution_count": 70,
   "metadata": {},
   "outputs": [],
   "source": [
    "# basically instead of optimizing I'm just building lists using logic\n",
    "# unsure what to do if prep site has more than 2 carry in sites assigned\n",
    "# would want it to go through the list of carry in sites and put them into segment lists based on demand and maybe time of day?\n",
    "# like if 4 digits with a 1 at the end, lunch, so pair with other lunch, etc? \n",
    "# but there's an ambiguous number of segments \n",
    "\n",
    "#fake_segments = {}\n",
    "#unassigned_dict = {}\n",
    "#\n",
    "#    elif len(carry_ins) == 2:\n",
    "#        if carry_in_dict[carry_ins[0]] + carry_in_dict[carry_ins[1]] >= vehicle_capacity:\n",
    "#            final_segments[prep] = [[carry_ins[0]],[carry_ins[1]]]\n",
    "#    elif len(carry_ins) > 2: ## ambiguous number of lists, don't know how many segments we'll make? \n",
    "#        temp = []\n",
    "#        seg = []\n",
    "#        unassigned = []\n",
    "#        for site in carry_ins:\n",
    "#            if demand_sum(temp.append(site)) < vehicle_capacity:\n",
    "#                seg.append(site)\n",
    "#            else:\n",
    "#                unassigned.append(site)\n",
    "#            final_segments[prep] = seg\n",
    "#            unassigned_dict[prep] = unassigned\n",
    " ## should be some sort of method that builds a list of carry ins               \n",
    "            \n",
    "        \n",
    "        \n",
    "\n",
    "            \n",
    "                    \n",
    "\n",
    "#print(final_segments)\n"
   ]
  },
  {
   "cell_type": "code",
   "execution_count": null,
   "metadata": {},
   "outputs": [],
   "source": []
  },
  {
   "cell_type": "code",
   "execution_count": 78,
   "metadata": {},
   "outputs": [
    {
     "data": {
      "text/plain": [
       "'1041'"
      ]
     },
     "execution_count": 78,
     "metadata": {},
     "output_type": "execute_result"
    }
   ],
   "source": [
    "str(1041)"
   ]
  },
  {
   "cell_type": "code",
   "execution_count": 79,
   "metadata": {},
   "outputs": [],
   "source": [
    "x = str(1041)"
   ]
  },
  {
   "cell_type": "code",
   "execution_count": 80,
   "metadata": {},
   "outputs": [
    {
     "ename": "IndexError",
     "evalue": "string index out of range",
     "output_type": "error",
     "traceback": [
      "\u001b[1;31m---------------------------------------------------------------------------\u001b[0m",
      "\u001b[1;31mIndexError\u001b[0m                                Traceback (most recent call last)",
      "\u001b[1;32m<ipython-input-80-cedd7ac36334>\u001b[0m in \u001b[0;36m<module>\u001b[1;34m\u001b[0m\n\u001b[1;32m----> 1\u001b[1;33m \u001b[0mx\u001b[0m\u001b[1;33m[\u001b[0m\u001b[1;36m4\u001b[0m\u001b[1;33m]\u001b[0m\u001b[1;33m\u001b[0m\u001b[1;33m\u001b[0m\u001b[0m\n\u001b[0m",
      "\u001b[1;31mIndexError\u001b[0m: string index out of range"
     ]
    }
   ],
   "source": [
    "x[4]"
   ]
  },
  {
   "cell_type": "code",
   "execution_count": 81,
   "metadata": {},
   "outputs": [
    {
     "data": {
      "text/plain": [
       "'1'"
      ]
     },
     "execution_count": 81,
     "metadata": {},
     "output_type": "execute_result"
    }
   ],
   "source": [
    "x[3]"
   ]
  },
  {
   "cell_type": "code",
   "execution_count": 82,
   "metadata": {},
   "outputs": [],
   "source": [
    "dummy = []"
   ]
  },
  {
   "cell_type": "code",
   "execution_count": 83,
   "metadata": {},
   "outputs": [
    {
     "data": {
      "text/plain": [
       "0"
      ]
     },
     "execution_count": 83,
     "metadata": {},
     "output_type": "execute_result"
    }
   ],
   "source": [
    "len(dummy)"
   ]
  },
  {
   "cell_type": "code",
   "execution_count": null,
   "metadata": {},
   "outputs": [],
   "source": []
  }
 ],
 "metadata": {
  "kernelspec": {
   "display_name": "Python 3",
   "language": "python",
   "name": "python3"
  },
  "language_info": {
   "codemirror_mode": {
    "name": "ipython",
    "version": 3
   },
   "file_extension": ".py",
   "mimetype": "text/x-python",
   "name": "python",
   "nbconvert_exporter": "python",
   "pygments_lexer": "ipython3",
   "version": "3.7.4"
  }
 },
 "nbformat": 4,
 "nbformat_minor": 2
}
