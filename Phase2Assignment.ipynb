{
 "cells": [
  {
   "cell_type": "code",
   "execution_count": 3,
   "metadata": {},
   "outputs": [],
   "source": [
    "from __future__ import print_function\n",
    "from ortools.linear_solver import pywraplp"
   ]
  },
  {
   "cell_type": "code",
   "execution_count": null,
   "metadata": {},
   "outputs": [],
   "source": [
    "## Ignore depots, pretend all starting from Yuma, just have negative demand on the prep sites"
   ]
  },
  {
   "cell_type": "code",
   "execution_count": 10,
   "metadata": {},
   "outputs": [],
   "source": [
    "## Data\n",
    "distance = [0]\n",
    "# prep = columns; carry_in = rows\n",
    "supply = [0] # prep, len(supply) = len(distance[1])\n",
    "demand = [0] # carry_in, len(demand) = len(distance)\n",
    "\n",
    "### Need data where\n",
    "# distance[I,J] has carry_ins i and prep j\n",
    "# supply[j] with supply of prep in order J\n",
    "# demand[i] with demand of carry_ins in order I\n",
    "\n",
    "num_carry_in = len(demand) ## Carry-in sites are rows of distance matrix\n",
    "all_carry_in = range(num_carry_in)\n",
    "\n",
    "num_prep_site = len(supply) ## Prep sites are cols of distance matrix\n",
    "all_prep = range(num_prep_site)\n",
    "\n",
    "#if len(supply) < len(distance[1]):\n",
    "#    print(\"Not enough supply values defined.\")\n",
    "#    elif len(supply > len(distance[1])):\n",
    "#        print(\"Too many supply values defined.\")\n",
    "        "
   ]
  },
  {
   "cell_type": "code",
   "execution_count": 5,
   "metadata": {},
   "outputs": [],
   "source": [
    "## Model \n",
    "# Declare solver       \n",
    "solver = pywraplp.Solver('SolveAssignmentProblemMIP',pywraplp.Solver.CBC_MIXED_INTEGER_PROGRAMMING)\n",
    "\n",
    "## Declare binary decision variables\n",
    "#i by j array segments where (i,j) is 1 if carry_in i is assigned to prep j and 0 otherwise\n",
    "segments = {}\n",
    "for i in all_carry_in:\n",
    "    for j in all_prep:\n",
    "      segments[(i, j)] = solver.BoolVar('seg[%i,%i]' % (i, j))\n",
    "    \n",
    "# Objective: minimize total distance between prep and carry sites \n",
    "#does not represent optimal minimization of driving, but ensures proximity\n",
    "solver.Minimize(solver.Sum([cost[i][j] * segments[i,j] for i in all_carry_in\n",
    "                                                       for j in all_prep]))\n",
    "\n",
    "## Constraints\n",
    "# carry_in i is assigned one and only one prep j\n",
    "## I think this is creating one sum for each carry_in i (do I need to switch i and j?)\n",
    "for i in all_carry_in:\n",
    "    solver.Add(solver.Sum([segments[i, j] for j in all_prep]) == 1)\n",
    "\n",
    "# sum of demand of carry_ins I assigned to j do not exceed supply of prep j\n",
    "for j in all_prep:\n",
    "    solver.Add(solver.Sum([segments[i,j]*demand[i]] for i in all_carry_in) <= supply[j])\n"
   ]
  },
  {
   "cell_type": "code",
   "execution_count": null,
   "metadata": {},
   "outputs": [],
   "source": [
    "## Results\n",
    "print('Total cost = ', solver.Objective().Value())\n",
    "\n",
    "#Prints assignments\n",
    "for i in all_carry_in:\n",
    "    for j in all_prep:\n",
    "      if segments[i, j].solution_value() > 0:\n",
    "        print('Carry in site %d assigned to prep site %d.' % (i,j))\n"
   ]
  }
 ],
 "metadata": {
  "kernelspec": {
   "display_name": "Python 3",
   "language": "python",
   "name": "python3"
  },
  "language_info": {
   "codemirror_mode": {
    "name": "ipython",
    "version": 3
   },
   "file_extension": ".py",
   "mimetype": "text/x-python",
   "name": "python",
   "nbconvert_exporter": "python",
   "pygments_lexer": "ipython3",
   "version": "3.7.4"
  }
 },
 "nbformat": 4,
 "nbformat_minor": 2
}
