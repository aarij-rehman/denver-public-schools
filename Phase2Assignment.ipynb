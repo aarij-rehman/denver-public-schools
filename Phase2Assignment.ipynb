{
 "cells": [
  {
   "cell_type": "code",
   "execution_count": 28,
   "metadata": {},
   "outputs": [],
   "source": [
    "# Binary integer program (BIP) that assigns carry-in sites to prep sites\n",
    "# This model does not consider delivery windows or vehicle capacity, those constraints will be considered when routing\n",
    "# Input: supply of prep sites, demand of carry-in sites, cost of going from prep to carry-in site (time,distance,whatever)\n",
    "# Output: pairings with carry-in sites listed first\n",
    "\n",
    "from ortools.linear_solver import pywraplp\n",
    "import pandas as pd "
   ]
  },
  {
   "cell_type": "code",
   "execution_count": 29,
   "metadata": {},
   "outputs": [],
   "source": [
    "## Model \n",
    "# Declare solver   \n",
    "solver = pywraplp.Solver('SolveAssignmentProblemMIP',pywraplp.Solver.CBC_MIXED_INTEGER_PROGRAMMING)"
   ]
  },
  {
   "cell_type": "code",
   "execution_count": 68,
   "metadata": {},
   "outputs": [],
   "source": [
    "def convert_to_dict(keylist,valuelist):\n",
    "    #makes two lists into a dictionary with the first list as the keys\n",
    "    #list lengths must be equivalent\n",
    "    temp_dict = {}\n",
    "    if len(keylist) != len(valuelist):\n",
    "        print(\"List lengths not equivalent\")\n",
    "        return\n",
    "    for x in range(len(keylist)):\n",
    "        temp_dict[keylist[x]] = valuelist[x]\n",
    "    return temp_dict\n",
    "\n",
    "def missing_key(master_dict,subset_dict):\n",
    "    #returns keys that exist in master_dict but not in subset_dict\n",
    "    #here master_dict will be segments and subset_dict will be costs\n",
    "    #costs generated from current arcs but segments is list of all potential arcs\n",
    "    #use to find missing keys if getting key error when running objective function cell\n",
    "    missing_keys = {}\n",
    "    for key in master_dict.keys():\n",
    "        if key not in subset_dict.keys():\n",
    "            missing_keys[key] = 1\n",
    "    return missing_keys\n",
    "\n",
    "def list_to_tuple(lst):\n",
    "    # makes a list of lists into a list of tuples \n",
    "    # [[a,b],[c,d],[e,f],[g,h]] -> [(a,b),(c,d),(e,f),(g,h)]\n",
    "    for i in range(len(lst)):\n",
    "        lst[i] = tuple(lst[i])\n",
    "    return lst\n",
    "\n",
    "def amount_used():\n",
    "## Dictionary list that has the estimated number of meals that each prep site will need to make\n",
    "    for j in prep_site_number:\n",
    "        used[j] = 0\n",
    "        for i in carry_in_site_number:\n",
    "            if segments[i,j].solution_value() > 0:\n",
    "                used[j] = used[j] + carry_in_dict[i]\n",
    "    return used\n",
    "\n",
    "def get_list_of_pairings():\n",
    "    pairings = [0]*len(assignments.keys())\n",
    "    i = 0\n",
    "    for key in assignments.keys():\n",
    "        pairings[i] = key\n",
    "        i = i + 1\n",
    "    return pairings"
   ]
  },
  {
   "cell_type": "code",
   "execution_count": 31,
   "metadata": {},
   "outputs": [],
   "source": [
    "## Make whole things function that takes in three file paths?\n",
    "\n",
    "## Read in data\n",
    "## change computer path\n",
    "## Change column names in Excel file or here accordingly, remember to save Excel file before running again\n",
    "\n",
    "# Supply\n",
    "supply_df = pd.read_excel(\"C://Users/anyak/Documents/DPS/DPSData/ImportantDataCompiled.xlsx\", \"Prep Site Capacity\",usecols = \"B,C\")\n",
    "# pd.read_excel('filepath','worksheet in question', 'columns in question')\n",
    "supply_df = supply_df.dropna().astype(int) # drop null values and convert data type to int\n",
    "prep_site_number = supply_df[\"Prep Site #\"].values.tolist() \n",
    "supply = supply_df[\"Supply\"].values.tolist() # makes column of dataframe into list\n",
    "\n",
    "# Demand\n",
    "demand_df = pd.read_excel(\"C://Users/anyak/Documents/DPS/DPSData/ImportantDataCompiled.xlsx\",\"Meals per School\")\n",
    "carry_in_site_number = demand_df[\"School #\"].values.tolist() \n",
    "demand_df[\"Breakfast Demand\"] = demand_df[\"Breakfast Demand\"].astype(int)\n",
    "demand_df[\"Lunch Demand\"] = demand_df[\"Lunch Demand\"].astype(int)\n",
    "breakfast_demand = demand_df[\"Breakfast Demand\"].dropna()\n",
    "lunch_demand = demand_df[\"Lunch Demand\"].dropna()\n",
    "demand = breakfast_demand + lunch_demand\n",
    "demand = demand.values.tolist()\n",
    "\n",
    "# Distances\n",
    "distances_df = pd.read_excel(\"C://Users/anyak/Documents/DPS/DPSData/preptocarry.xlsx\",usecols = \"D,E,F\")\n",
    "cost_list = distances_df[\"Distance(km)\"].values.tolist()\n",
    "\n",
    "# Destinations (carry ins) first for consistency going forward\n",
    "arcs = distances_df[[\"Destination\",\"Origin\"]].values.tolist() ## list of lists, need to convert to list of tuples\n",
    "arcs = list_to_tuple(arcs)"
   ]
  },
  {
   "cell_type": "code",
   "execution_count": 32,
   "metadata": {},
   "outputs": [],
   "source": [
    "# turn lists into dictionaries\n",
    "carry_in_dict = convert_to_dict(carry_in_site_number,demand)\n",
    "prep_site_dict = convert_to_dict(prep_site_number,supply)\n",
    "costs = convert_to_dict(arcs,cost_list)"
   ]
  },
  {
   "cell_type": "code",
   "execution_count": 33,
   "metadata": {},
   "outputs": [],
   "source": [
    "## Declare binary decision variables\n",
    "#i by j array segments where (i,j) is keyed to 1 if carry_in i is assigned to prep j and 0 otherwise\n",
    "#segments is a dictionary which takes the tuple (i,j) as the key and the bool as the value\n",
    "segments = {}\n",
    "for i in carry_in_site_number:\n",
    "    for j in prep_site_number:\n",
    "        segments[(i, j)] = solver.BoolVar('seg[%i,%i]' % (i, j))"
   ]
  },
  {
   "cell_type": "code",
   "execution_count": 34,
   "metadata": {},
   "outputs": [],
   "source": [
    "## Objective: minimize total distance between prep and carry sites \n",
    "# doesn't represent optimal minimization of drive time / miles driven, but ensures proximity heuristically\n",
    "solver.Minimize(solver.Sum([costs[(i,j)]*segments[(i,j)]\n",
    "                                        for i in carry_in_site_number\n",
    "                                        for j in prep_site_number]))"
   ]
  },
  {
   "cell_type": "code",
   "execution_count": 35,
   "metadata": {},
   "outputs": [],
   "source": [
    "## Constraints\n",
    "# carry in i is assigned at least and no more than one prep j (prep j can have multiple carry_ins)\n",
    "for i in carry_in_site_number:\n",
    "    solver.Add(solver.Sum([segments[(i,j)] for j in prep_site_number]) == 1)\n",
    "\n",
    "# sum of demand of carry_ins I assigned to j do not exceed supply of prep j\n",
    "# carry_in_site_dict[i] gives demand of site i\n",
    "# prep_site_dict[j] gives supply of prep j\n",
    "for j in prep_site_number:\n",
    "    solver.Add(solver.Sum([segments[(i,j)]*carry_in_dict[i] for i in carry_in_site_number]) <= prep_site_dict[j])"
   ]
  },
  {
   "cell_type": "code",
   "execution_count": 47,
   "metadata": {},
   "outputs": [
    {
     "name": "stdout",
     "output_type": "stream",
     "text": [
      "Total distance (km) =  98.394440626\n",
      "Carry in site 110 assigned to prep site 451.\n",
      "Carry in site 117 assigned to prep site 419.\n",
      "Carry in site 161 assigned to prep site 150.\n",
      "Carry in site 168 assigned to prep site 455.\n",
      "Carry in site 178 assigned to prep site 190.\n",
      "Carry in site 179 assigned to prep site 424.\n",
      "Carry in site 181 assigned to prep site 971.\n",
      "Carry in site 192 assigned to prep site 248.\n",
      "Carry in site 203 assigned to prep site 412.\n",
      "Carry in site 212 assigned to prep site 423.\n",
      "Carry in site 223 assigned to prep site 412.\n",
      "Carry in site 252 assigned to prep site 190.\n",
      "Carry in site 264 assigned to prep site 405.\n",
      "Carry in site 316 assigned to prep site 982.\n",
      "Carry in site 328 assigned to prep site 457.\n",
      "Carry in site 383 assigned to prep site 455.\n",
      "Carry in site 426 assigned to prep site 415.\n",
      "Carry in site 436 assigned to prep site 464.\n",
      "Carry in site 438 assigned to prep site 451.\n",
      "Carry in site 473 assigned to prep site 218.\n",
      "Carry in site 477 assigned to prep site 423.\n",
      "Carry in site 478 assigned to prep site 218.\n",
      "Carry in site 479 assigned to prep site 437.\n",
      "Carry in site 488 assigned to prep site 455.\n",
      "Carry in site 490 assigned to prep site 464.\n",
      "Carry in site 497 assigned to prep site 682.\n",
      "Carry in site 499 assigned to prep site 248.\n",
      "Carry in site 509 assigned to prep site 301.\n",
      "Carry in site 515 assigned to prep site 218.\n",
      "Carry in site 516 assigned to prep site 408.\n",
      "Carry in site 522 assigned to prep site 981.\n",
      "Carry in site 533 assigned to prep site 275.\n",
      "Carry in site 602 assigned to prep site 682.\n",
      "Carry in site 604 assigned to prep site 450.\n",
      "Carry in site 605 assigned to prep site 455.\n",
      "Carry in site 750 assigned to prep site 457.\n",
      "Carry in site 801 assigned to prep site 423.\n",
      "Carry in site 891 assigned to prep site 682.\n"
     ]
    }
   ],
   "source": [
    "## Results\n",
    "solver.Solve()\n",
    "print('Total distance (km) = ', solver.Objective().Value())\n",
    "\n",
    "#Prints assignments\n",
    "assignments = {}\n",
    "for i in carry_in_site_number:\n",
    "    for j in prep_site_number:\n",
    "        if segments[i, j].solution_value() > 0:\n",
    "            assignments[(i,j)] = 1\n",
    "            print('Carry in site %d assigned to prep site %d.' % (i,j))"
   ]
  }
 ],
 "metadata": {
  "kernelspec": {
   "display_name": "Python 3",
   "language": "python",
   "name": "python3"
  },
  "language_info": {
   "codemirror_mode": {
    "name": "ipython",
    "version": 3
   },
   "file_extension": ".py",
   "mimetype": "text/x-python",
   "name": "python",
   "nbconvert_exporter": "python",
   "pygments_lexer": "ipython3",
   "version": "3.7.4"
  }
 },
 "nbformat": 4,
 "nbformat_minor": 2
}
