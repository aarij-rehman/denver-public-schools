{
 "cells": [
  {
   "cell_type": "code",
   "execution_count": 1,
   "metadata": {},
   "outputs": [],
   "source": [
    "## Description of Phase II Part 1\n",
    "# Binary integer program (BIP) that assigns carry-in sites to prep sites\n",
    "# This model does not consider delivery windows or vehicle capacity, those constraints will be considered when routing\n",
    "\n",
    "from __future__ import print_function ## Not sure if necessary\n",
    "from ortools.linear_solver import pywraplp ## Solves the binary assignment\n",
    "import pandas as pd ## Reads in .csv files"
   ]
  },
  {
   "cell_type": "code",
   "execution_count": 2,
   "metadata": {},
   "outputs": [],
   "source": [
    "## Helpers\n",
    "def convert_to_dict(keylist,valuelist):\n",
    "    #makes two lists into a dictionary with the first list as the keys\n",
    "    #list lengths must be equivalent\n",
    "    temp_dict = {}\n",
    "    if len(keylist) != len(valuelist):\n",
    "        print(\"List lengths not equivalent\")\n",
    "        return\n",
    "    for x in keylist:\n",
    "        temp_dict[x] = valuelist[keylist.index(x)]\n",
    "    return temp_dict"
   ]
  },
  {
   "cell_type": "code",
   "execution_count": 3,
   "metadata": {},
   "outputs": [],
   "source": [
    "## Read in data\n",
    "## change to personal computer path\n",
    "\n",
    "# Supply\n",
    "data = pd.read_excel(\"C://Users/anyak/Documents/DPS/DPSData/ImportantDataCompiled.xlsx\", \"Prep Site Capacity\",usecols = \"B,C\")\n",
    "data = data.dropna().astype(int) # drop n/a values and convert to integers\n",
    "prep_site_number = data[\"Prep Site #\"].values.tolist() ## makes column into list\n",
    "supply = data[\"Supply\"].values.tolist()\n",
    "\n",
    "# Demand\n",
    "demanddata = pd.read_excel(\"C://Users/anyak/Documents/DPS/DPSData/ImportantDataCompiled.xlsx\",\"Meals per School\")\n",
    "carry_in_site_number = demanddata[\"School #\"].values.tolist() \n",
    "demanddata[\"Breakfast Demand\"] = demanddata[\"Breakfast Demand\"].astype(int)\n",
    "demanddata[\"Lunch Demand\"] = demanddata[\"Lunch Demand\"].astype(int)\n",
    "breakfast_demand = demanddata[\"Breakfast Demand\"].dropna()\n",
    "lunch_demand = demanddata[\"Lunch Demand\"].dropna()\n",
    "demand = breakfast_demand + lunch_demand\n",
    "demand = demand.values.tolist()"
   ]
  },
  {
   "cell_type": "code",
   "execution_count": 4,
   "metadata": {},
   "outputs": [],
   "source": [
    "cost = [1,2,3,4]\n",
    "\n",
    "carry_in_range = range(len(demand)) ## means carry_in_range takes values from 0 to len(demand) - 1\n",
    "prep_range = range(len(supply))\n",
    "\n",
    "# get information into dictionaries\n",
    "carry_in_dict = convert_to_dict(carry_in_site_number,demand)\n",
    "prep_site_dict = convert_to_dict(prep_site_number,supply)"
   ]
  },
  {
   "cell_type": "code",
   "execution_count": 5,
   "metadata": {},
   "outputs": [],
   "source": [
    "## Model \n",
    "# Declare solver       \n",
    "solver = pywraplp.Solver('SolveAssignmentProblemMIP',pywraplp.Solver.CBC_MIXED_INTEGER_PROGRAMMING)"
   ]
  },
  {
   "cell_type": "code",
   "execution_count": 6,
   "metadata": {},
   "outputs": [],
   "source": [
    "## Declare binary decision variables\n",
    "#i by j array segments where (i,j) is 1 if carry_in i is assigned to prep j and 0 otherwise\n",
    "# segments is a dictionary which takes the tuple (i,j) as the key and the bool as the value\n",
    "## CHANGE so the tuple is the prep or carry_in site number??? \n",
    "segments = {}\n",
    "for i in carry_in_range:\n",
    "    for j in prep_range:\n",
    "        a = carry_in_site_number[i]\n",
    "        b = prep_site_number[j]\n",
    "        #convert i and j to the schools they refer to\n",
    "        segments[(i, j)] = solver.BoolVar('seg[%i,%i]' % (a, b))"
   ]
  },
  {
   "cell_type": "code",
   "execution_count": null,
   "metadata": {},
   "outputs": [],
   "source": [
    "## Objective: minimize total distance between prep and carry sites \n",
    "# does not represent optimal minimization of drive time, but ensures proximity\n",
    "# Want a cost dictionary that keys on the tuple i,j for the distance/time between i and j where i and j\n",
    "solver.Minimize(solver.Sum([cost[i][j] * segments[i,j] for i in carry_in_range\n",
    "                                                       for j in prep_range]))"
   ]
  },
  {
   "cell_type": "code",
   "execution_count": null,
   "metadata": {},
   "outputs": [],
   "source": [
    "## Constraints\n",
    "# carry_in i is assigned one and only one prep j (prep j can have multiple carry_ins)\n",
    "# I think this is creating one sum for each carry_in i (do I need to switch i and j?)\n",
    "for i in carry_in_range:\n",
    "    solver.Add(solver.Sum([segments[i, j] for j in prep_range]) == 1)\n",
    "\n",
    "# sum of demand of carry_ins I assigned to j do not exceed supply of prep j\n",
    "for j in prep_range:\n",
    "    solver.Add(solver.Sum([segments[i,j]*demand[i]] for i in carry_in_range) <= supply[j])"
   ]
  },
  {
   "cell_type": "code",
   "execution_count": null,
   "metadata": {},
   "outputs": [],
   "source": [
    "## Results\n",
    "print('Total distance = ', solver.Objective().Value())\n",
    "\n",
    "#Prints assignments\n",
    "for i in carry_in_range:\n",
    "    for j in prep_range:\n",
    "        if segments[i, j].solution_value() > 0:\n",
    "            a = carry_in_site_number[i]\n",
    "            b = prep_site_number[j]\n",
    "            print('Carry in site %d assigned to prep site %d.' % (a,b))\n"
   ]
  }
 ],
 "metadata": {
  "kernelspec": {
   "display_name": "Python 3",
   "language": "python",
   "name": "python3"
  },
  "language_info": {
   "codemirror_mode": {
    "name": "ipython",
    "version": 3
   },
   "file_extension": ".py",
   "mimetype": "text/x-python",
   "name": "python",
   "nbconvert_exporter": "python",
   "pygments_lexer": "ipython3",
   "version": "3.7.4"
  }
 },
 "nbformat": 4,
 "nbformat_minor": 2
}
