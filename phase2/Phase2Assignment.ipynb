{
 "cells": [
  {
   "cell_type": "code",
   "execution_count": 1,
   "metadata": {},
   "outputs": [],
   "source": [
    "# Binary integer program (BIP) that assigns carry-in sites to prep sites\n",
    "# This model does not consider delivery windows or vehicle capacity, those constraints will be considered later\n",
    "# Input: supply of prep sites, demand of carry-in sites, cost of going from prep to carry-in site (time,distance,whatever)\n",
    "# Output: pairings with carry-in sites listed first\n",
    "\n",
    "from ortools.linear_solver import pywraplp\n",
    "import pandas as pd "
   ]
  },
  {
   "cell_type": "code",
   "execution_count": 2,
   "metadata": {},
   "outputs": [],
   "source": [
    "# Notes\n",
    "# Don't leave 0 demand or supply entries in the initial Excel files (or edit code to handle 0 demand/supply)\n",
    "## Could make this into a function that takes file paths as the input; format of files would need to be uniform "
   ]
  },
  {
   "cell_type": "code",
   "execution_count": 3,
   "metadata": {},
   "outputs": [],
   "source": [
    "## Model \n",
    "# Declare solver   \n",
    "solver = pywraplp.Solver('SolveAssignmentProblemMIP',pywraplp.Solver.CBC_MIXED_INTEGER_PROGRAMMING)"
   ]
  },
  {
   "cell_type": "code",
   "execution_count": 4,
   "metadata": {},
   "outputs": [],
   "source": [
    "## Helper functions\n",
    "\n",
    "def convert_to_dict(keylist,valuelist):\n",
    "#makes two lists into a dictionary with the first list as the keys\n",
    "#list lengths must be equivalent\n",
    "#Replace with dict comprehension? \n",
    "    temp_dict = {}\n",
    "    if len(keylist) != len(valuelist):\n",
    "        print(\"List lengths not equivalent\")\n",
    "        return\n",
    "    for x in range(len(keylist)):\n",
    "        temp_dict[keylist[x]] = valuelist[x]\n",
    "    return temp_dict\n",
    "\n",
    "def missing_key(master_dict,subset_dict):\n",
    "#returns keys that exist in master_dict but not in subset_dict\n",
    "#here master_dict will be segments and subset_dict will be costs\n",
    "#costs generated from current arcs but segments is list of all potential arcs\n",
    "#use to find missing keys if getting key error when running objective function cell\n",
    "    missing_keys = {}\n",
    "    for key in master_dict.keys():\n",
    "        if key not in subset_dict.keys():\n",
    "            missing_keys[key] = 1\n",
    "    return missing_keys\n",
    "\n",
    "def list_to_tuple(lst):\n",
    "# makes a list of lists into a list of tuples \n",
    "# [[a,b],[c,d],[e,f],[g,h]] -> [(a,b),(c,d),(e,f),(g,h)]\n",
    "    for i in range(len(lst)):\n",
    "        lst[i] = tuple(lst[i])\n",
    "    return lst\n",
    "\n",
    "def amount_used():\n",
    "# a dictionary with prep sites as the key, pointing to how many meals they are assigned to serve\n",
    "    num_meals = {}\n",
    "    for j in prep_site_number:\n",
    "        used = [0]\n",
    "        for i in carry_in_site_number:\n",
    "            if (i,j) in assignments.keys(): ## only in assignments if assigned to each other\n",
    "                used[0] = used[0] + carry_in_dict[i]\n",
    "        num_meals[j] = used[0]\n",
    "    return num_meals\n",
    "\n",
    "def make_prep_list(assignments_dict):\n",
    "# takes dictionary of assignments which has a tuple key and binary value where the key is the prep/carry-in match\n",
    "# makes it into a different dict prep_list which has the carry ins assigned to each prep as a list \n",
    "# (prep1,carryin1:1), (prep1,carryin2:1) -> prep1: [carryin1,carryin2]\n",
    "    unique_prep = []\n",
    "    for key in assignments_dict.keys():\n",
    "        prep = key[1]\n",
    "        if prep not in unique_prep:\n",
    "            unique_prep.append(prep)\n",
    "    \n",
    "    prep_list = {}\n",
    "    for p in unique_prep:\n",
    "        prep_list[p] = []\n",
    "        # key p now points to empty list\n",
    "        for key in assignments_dict.keys():\n",
    "            if p == key[1]:\n",
    "                prep_list[p].append(key[0])\n",
    "                ## take k[0] and add it to list that p points to in prep_list\n",
    "    \n",
    "    return prep_list\n",
    "\n",
    "def check_key(dict,mykey):\n",
    "# checks if some key mykey is in dictionary dict\n",
    "    if mykey in dict:\n",
    "        print(\"Present\")\n",
    "    else:\n",
    "        print(\"No\")\n",
    "        \n",
    "def remove_zero_value_dict(dict):\n",
    "# remove all 0 values from your dictionary\n",
    "    new_dict = {} \n",
    "    for key in dict.keys():\n",
    "        if dict[key] != 0:\n",
    "            new_dict[key] = dict[key]\n",
    "    return new_dict\n",
    "\n",
    "def assignments_different(assignments_dict1, assignments_dict2):\n",
    "    # returns the keys that point to different values in each dictionary\n",
    "    # Useful if comparing different inputted data / how it impacts assignments\n",
    "    differences = {}\n",
    "    for key in assignments_dict1.keys():\n",
    "        if assignments_dict1[key] != assignments_dict2[key]:\n",
    "            differences[key] = 1\n",
    "            \n",
    "    return differences"
   ]
  },
  {
   "cell_type": "code",
   "execution_count": 5,
   "metadata": {},
   "outputs": [],
   "source": [
    "## Read in data\n",
    "## change computer path as necessary\n",
    "## Change column names in Excel file or here accordingly, remember to save Excel file before running again\n",
    "\n",
    "# Supply\n",
    "supply_df = pd.read_excel(\"C://Users/anyak/Documents/DPS/DPSData/ImportantDataCompiled.xlsx\", \"Prep Site Capacity\",usecols = \"B,C\")\n",
    "# pd.read_excel('filepath','worksheet in question', 'columns in question')\n",
    "supply_df = supply_df.dropna().astype(int) # drop null values and convert data type to int\n",
    "prep_site_number = supply_df[\"Prep Site #\"].values.tolist() \n",
    "supply = supply_df[\"Supply\"].values.tolist() # makes column of dataframe into list\n",
    "\n",
    "# Demand (using different numbering system to differentiate lunch and breakfast at same school)\n",
    "demand_df = pd.read_excel(\"C://Users/anyak/Documents/DPS/DPSData/DuplicateSchoolCodes.xlsx\",usecols = \"A,B\")\n",
    "carry_in_site_number = demand_df[\"School\"].dropna().values.tolist() \n",
    "demand = demand_df[\"Demand\"].dropna().astype(int)\n",
    "\n",
    "# Distances\n",
    "distances_df = pd.read_excel(\"C://Users/anyak/Documents/DPS/DPSData/preptocarryLATEST2.xlsx\",usecols = \"C,D,E\")\n",
    "cost_list = distances_df[\"Total_Kilometers\"].values.tolist()\n",
    "\n",
    "# Destinations (carry ins) first for consistency going forward\n",
    "arcs = distances_df[[\"Dest_name\",\"Org_name\"]].values.tolist() ## list of lists, need to convert to list of tuples\n",
    "arcs = list_to_tuple(arcs)"
   ]
  },
  {
   "cell_type": "code",
   "execution_count": 6,
   "metadata": {},
   "outputs": [],
   "source": [
    "# turn lists into dictionaries\n",
    "carry_in_dict = convert_to_dict(carry_in_site_number,demand)\n",
    "prep_site_dict = convert_to_dict(prep_site_number,supply)\n",
    "costs = convert_to_dict(arcs,cost_list)"
   ]
  },
  {
   "cell_type": "code",
   "execution_count": 7,
   "metadata": {},
   "outputs": [],
   "source": [
    "## Declare binary decision variables\n",
    "#i by j array segments where (i,j) is keyed to 1 if carry_in i is assigned to prep j and 0 otherwise\n",
    "#segments is a dictionary which takes the tuple (i,j) as the key and the bool as the value\n",
    "segments = {}\n",
    "for i in carry_in_site_number:\n",
    "    for j in prep_site_number:\n",
    "        segments[(i, j)] = solver.BoolVar('seg[%i,%i]' % (i, j))"
   ]
  },
  {
   "cell_type": "code",
   "execution_count": 8,
   "metadata": {},
   "outputs": [
    {
     "data": {
      "text/plain": [
       "{}"
      ]
     },
     "execution_count": 8,
     "metadata": {},
     "output_type": "execute_result"
    }
   ],
   "source": [
    "# Check if there are any pairings where there is no distance information\n",
    "# if empty, good to go\n",
    "missing_key(segments,costs)"
   ]
  },
  {
   "cell_type": "code",
   "execution_count": 9,
   "metadata": {},
   "outputs": [],
   "source": [
    "## Objective: minimize total distance between prep and carry sites \n",
    "# is not optimal minimization of drive time / miles driven, but ensures proximity heuristically\n",
    "solver.Minimize(solver.Sum([costs[(i,j)]*segments[(i,j)]\n",
    "                                        for i in carry_in_site_number\n",
    "                                        for j in prep_site_number]))"
   ]
  },
  {
   "cell_type": "code",
   "execution_count": 10,
   "metadata": {},
   "outputs": [],
   "source": [
    "## Constraints\n",
    "## Another possible constraint: maybe look for time windows not to overlap \n",
    "\n",
    "# carry in i is assigned at least and no more than one prep j (prep j can have multiple carry_ins)\n",
    "for i in carry_in_site_number:\n",
    "    solver.Add(solver.Sum([segments[(i,j)] for j in prep_site_number]) == 1)\n",
    "\n",
    "# sum of demand of carry_ins I assigned to j do not exceed supply of prep j\n",
    "# carry_in_site_dict[i] gives demand of site i\n",
    "# prep_site_dict[j] gives supply of prep j\n",
    "for j in prep_site_number:\n",
    "    solver.Add(solver.Sum([segments[(i,j)]*carry_in_dict[i] for i in carry_in_site_number]) <= prep_site_dict[j])\n",
    "    \n",
    "\n",
    "## Potential additional constraint    \n",
    "# Each prep site must service at least one carry in site\n",
    "# More even spread of prepped meals but more miles driven, adds about 40km \n",
    "# Not implemented in code, may be useful if client wants each prep used. \n",
    "# Don't need new for loop, just add under previous for j in prep...\n",
    "\n",
    "#    solver.Add(solver.Sum([segments[(i,j)] for i in carry_in_site_number]) >= 1)"
   ]
  },
  {
   "cell_type": "code",
   "execution_count": 11,
   "metadata": {},
   "outputs": [
    {
     "name": "stdout",
     "output_type": "stream",
     "text": [
      "Total distance (km) = 132.68026911860102\n"
     ]
    }
   ],
   "source": [
    "## Results\n",
    "solver.Solve()\n",
    "print('Total distance (km) =', solver.Objective().Value())\n",
    "\n",
    "#Stores assignments in a dictionary\n",
    "assignments = {}\n",
    "for i in carry_in_site_number:\n",
    "    for j in prep_site_number:\n",
    "        if segments[i, j].solution_value() > 0:\n",
    "            assignments[(i,j)] = 1\n",
    "            # print('Carry in site %d assigned to prep site %d.' % (i,j))"
   ]
  },
  {
   "cell_type": "code",
   "execution_count": null,
   "metadata": {},
   "outputs": [],
   "source": [
    "# Interesting to look at the spread of meals \n",
    "# amount_used()"
   ]
  },
  {
   "cell_type": "code",
   "execution_count": 14,
   "metadata": {},
   "outputs": [
    {
     "data": {
      "text/plain": [
       "{451: [110, 516, 3831, 4790, 4791, 6040, 6041],\n",
       " 450: [158, 2121],\n",
       " 190: [161],\n",
       " 419: [168, 328],\n",
       " 437: [178, 252, 473, 509],\n",
       " 415: [179, 192],\n",
       " 424: [203, 4880, 4881, 4990, 4991, 5320, 5321],\n",
       " 971: [223, 533],\n",
       " 214: [264],\n",
       " 455: [426, 1170],\n",
       " 981: [436, 477],\n",
       " 457: [438],\n",
       " 150: [497, 891, 5150, 5151],\n",
       " 412: [605, 5220, 5221],\n",
       " 292: [750, 3160],\n",
       " 301: [801],\n",
       " 405: [999],\n",
       " 982: [1171],\n",
       " 408: [1810, 1811],\n",
       " 218: [2130, 2131, 4780, 4781],\n",
       " 258: [3161, 3830],\n",
       " 423: [4900, 4901],\n",
       " 278: [6020, 6021]}"
      ]
     },
     "execution_count": 14,
     "metadata": {},
     "output_type": "execute_result"
    }
   ],
   "source": [
    "# Assignments are printed in more easily readable format\n",
    "prep_list = make_prep_list(assignments)\n",
    "prep_list"
   ]
  }
 ],
 "metadata": {
  "kernelspec": {
   "display_name": "Python 3",
   "language": "python",
   "name": "python3"
  },
  "language_info": {
   "codemirror_mode": {
    "name": "ipython",
    "version": 3
   },
   "file_extension": ".py",
   "mimetype": "text/x-python",
   "name": "python",
   "nbconvert_exporter": "python",
   "pygments_lexer": "ipython3",
   "version": "3.7.4"
  }
 },
 "nbformat": 4,
 "nbformat_minor": 2
}
