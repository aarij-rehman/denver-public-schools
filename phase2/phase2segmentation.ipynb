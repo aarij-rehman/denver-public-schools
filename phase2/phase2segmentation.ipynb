{
 "cells": [
  {
   "cell_type": "code",
   "execution_count": 167,
   "metadata": {},
   "outputs": [],
   "source": [
    "# Takes the output of phase2assignment and builds segments based on the pairings made\n",
    "# pairing: bunch of tuples (carry1,prep1); (carry2, prep1)\n",
    "# segments: a list of sites starting at a prep site and ending at some carry in site\n",
    "# no more than 2 carry ins per site"
   ]
  },
  {
   "cell_type": "code",
   "execution_count": 168,
   "metadata": {},
   "outputs": [
    {
     "name": "stdout",
     "output_type": "stream",
     "text": [
      "Total distance (km) = 132.68026911860102\n"
     ]
    }
   ],
   "source": [
    "%run ./phase2assignment.ipynb\n",
    "# Comment out in phase2assignment whatever you don't want re-printing here\n",
    "# runs phase2 so that all of those outputs/functions are easily used here "
   ]
  },
  {
   "cell_type": "code",
   "execution_count": 169,
   "metadata": {},
   "outputs": [],
   "source": [
    "## Copied from Aarij's code from phase I \n",
    "\n",
    "# Creating a distance function from the distance matrix\n",
    "# Given two school's 3 digit codes, it returns the distance in time between them\n",
    "# Ex: distance(981, 604) = 35.736\n",
    "timematrix = pd.read_csv(\"C://Users/anyak/Documents/DPS/DPSData/time_matrix.csv\")\n",
    "\n",
    "origin      = list(timematrix['Origin_School'])\n",
    "destination = list(timematrix['Dest_School'])\n",
    "times       = list(timematrix['Total_TravelTime'])\n",
    "\n",
    "pairs = zip(origin, destination, times)\n",
    "distance_dictionary = {}\n",
    "for src, dst, time in pairs:\n",
    "    distance_dictionary[(src, dst)] = time"
   ]
  },
  {
   "cell_type": "code",
   "execution_count": 170,
   "metadata": {},
   "outputs": [],
   "source": [
    "# Helpers\n",
    "def distance(src_, dst_): \n",
    "# Edited from Aarij's to accommodate for 4 character codings\n",
    "    if len(str(src_)) == 4:\n",
    "        temp_src = str(src_)\n",
    "        temp_src = temp_src[0] + temp_src[1] + temp_src[2] # definitely a better way to do this... \n",
    "        src_ = int(temp_src)\n",
    "    if len(str(dst_)) == 4:\n",
    "        temp_dst = str(dst_)\n",
    "        temp_dst = temp_dst[0] + temp_dst[1] + temp_dst[2]\n",
    "        dst_ = int(temp_dst)\n",
    "    return distance_dictionary[(src_, dst_)]\n",
    "\n",
    "def demand_sum(carry_list):\n",
    "# Total demand of the sites in any given sized list of carry_ins\n",
    "    demand = 0\n",
    "    for c in carry_ins:\n",
    "        demand = demand + carry_in_dict[c]\n",
    "    return demand\n",
    "\n",
    "def delete_ending(any_list):\n",
    "# deletes the last character of each 4 character entry in a list \n",
    "    for i in range(len(any_list)): \n",
    "        site_str = str(any_list[i])\n",
    "        \n",
    "        if len(site_str) == 4:\n",
    "            site_str = site_str[0] + site_str[1] + site_str[2]\n",
    "            \n",
    "        site_num = int(site_str)\n",
    "        any_list[i] = site_num\n",
    "    \n",
    "    return any_list\n",
    "\n",
    "def same_meal_time(carry_site1,carry_site2):\n",
    "# 1 (true) if the meal times are the same \n",
    "    str1 = str(carry_site1)\n",
    "    str2 = str(carry_site2)\n",
    "    len1 = len(str1)\n",
    "    len2 = len(str2)\n",
    "    \n",
    "    same_meal = 0 #assume they are different meals unless otherwise proven (cuts down on else statements)\n",
    "    \n",
    "    if len1 == 4 and len2 == 4:\n",
    "        if str1[3] == str2[3]: # if both are 4 digits with the same ending, same meal time\n",
    "            same_meal = 1\n",
    "    \n",
    "    if len1 == 4 and len2 == 3:\n",
    "        if str1[3] == 1:\n",
    "            same_meal = 1\n",
    "            \n",
    "    if len1 == 3 and len2 == 4:\n",
    "        if str2[3] == 1:\n",
    "            same_meal = 1\n",
    "\n",
    "    if len1 == 3 and len2 == 3:\n",
    "        same_meal = 1\n",
    "        \n",
    "    return same_meal"
   ]
  },
  {
   "cell_type": "code",
   "execution_count": 171,
   "metadata": {},
   "outputs": [],
   "source": [
    "# Variables\n",
    "vehicle_capacity = 800\n",
    "max_segment_length = 2"
   ]
  },
  {
   "cell_type": "code",
   "execution_count": 172,
   "metadata": {},
   "outputs": [
    {
     "data": {
      "text/plain": [
       "{451: [110, 516, 3831, 4790, 4791, 6040, 6041],\n",
       " 450: [158, 2121],\n",
       " 190: [161],\n",
       " 419: [168, 328],\n",
       " 437: [178, 252, 473, 509],\n",
       " 415: [179, 192],\n",
       " 424: [203, 4880, 4881, 4990, 4991, 5320, 5321],\n",
       " 971: [223, 533],\n",
       " 214: [264],\n",
       " 455: [426, 1170],\n",
       " 981: [436, 477],\n",
       " 457: [438],\n",
       " 150: [497, 891, 5150, 5151],\n",
       " 412: [605, 5220, 5221],\n",
       " 292: [750, 3160],\n",
       " 301: [801],\n",
       " 405: [999],\n",
       " 982: [1171],\n",
       " 408: [1810, 1811],\n",
       " 218: [2130, 2131, 4780, 4781],\n",
       " 258: [3161, 3830],\n",
       " 423: [4900, 4901],\n",
       " 278: [6020, 6021]}"
      ]
     },
     "execution_count": 172,
     "metadata": {},
     "output_type": "execute_result"
    }
   ],
   "source": [
    "prep_list # check helper functions in phase2assignment for details"
   ]
  },
  {
   "cell_type": "code",
   "execution_count": 173,
   "metadata": {},
   "outputs": [],
   "source": [
    "# Another 'helper'\n",
    "def segment_optimization(prep, list_of_carry_ins):\n",
    "# basically running optimization on each group of prep/CI combos\n",
    "# returns a dictionary in the format of prep_list\n",
    "\n",
    "    solver = pywraplp.Solver('SolveAssignmentProblemMIP',pywraplp.Solver.CBC_MIXED_INTEGER_PROGRAMMING)\n",
    "    dummies = [0] * 4 # 4 is arbitrary\n",
    "    for i in range(len(dummies)):\n",
    "        dummies[i] = prep + i # (makes them distinct from each other if not from every site)\n",
    "        \n",
    "    carry_in_site_number = list_of_carry_ins # original list with some 4 digit entries \n",
    "    prep_site_number = dummies\n",
    "    bools = {}\n",
    "    \n",
    "    for i in carry_in_site_number:\n",
    "        for j in prep_site_number: \n",
    "            bools[(i, j)] = solver.BoolVar('bool[%i,%i]' % (i, j))\n",
    "            \n",
    "    # Sort of a dummy objective \n",
    "    solver.Minimize(solver.Sum([costs[(i,prep)]*bools[(i,j)] # use prep not j because j is dummy var / no data \n",
    "                                        for i in carry_in_site_number\n",
    "                                        for j in prep_site_number]))\n",
    "            \n",
    "    for i in carry_in_site_number: \n",
    "        # carry in can only be assigned to one dummy site\n",
    "        solver.Add(solver.Sum([bools[(i,j)] for j in prep_site_number]) == 1)\n",
    "        \n",
    "    for j in prep_site_number: \n",
    "        # a dummy prep can have max 2 carry ins assigned to it\n",
    "        solver.Add(solver.Sum([bools[(i,j)] for i in carry_in_site_number]) <= 2)\n",
    "        \n",
    "        # a segment cannot require more than the max vehicle capacity\n",
    "        solver.Add(solver.Sum([bools[(i,j)]*carry_in_dict[i] for i in carry_in_site_number]) <= vehicle_capacity)\n",
    "        \n",
    "    solver.Solve()\n",
    "    \n",
    "    seg_assignments = {}\n",
    "    \n",
    "    for i in carry_in_site_number:\n",
    "        for j in prep_site_number:\n",
    "            if bools[i, j].solution_value() > 0:\n",
    "                seg_assignments[(i,j)] = 1\n",
    "\n",
    "    return make_prep_list(seg_assignments)"
   ]
  },
  {
   "cell_type": "code",
   "execution_count": 174,
   "metadata": {},
   "outputs": [],
   "source": [
    "final_segments = {}\n",
    "for prep in prep_list.keys():\n",
    "    carry_ins = prep_list[prep]\n",
    "        \n",
    "    # Case 1: single carry in site (leave as is)\n",
    "    if len(carry_ins) == 1:\n",
    "        final_segments[prep] = carry_ins\n",
    "    \n",
    "    # Case 2: 2 carry in sites \n",
    "    if len(carry_ins) == 2:\n",
    "        first = carry_ins[0]\n",
    "        second = carry_ins[1]\n",
    "            \n",
    "        # can't go over vehicle_capacity\n",
    "        if carry_in_dict[first] + carry_in_dict[second] >= vehicle_capacity:\n",
    "            final_segments[prep] = [[first],[second]]\n",
    "                \n",
    "        # if too 'far' (arbitrary?) make 2 segments\n",
    "        elif distance(first,second) > distance(prep,second):\n",
    "            final_segments[prep] = [[first],[second]]\n",
    "                \n",
    "        # if not the same meal time, make 2 segments\n",
    "        elif same_meal_time(first,second) == 0:\n",
    "            final_segments[prep] = [[first],[second]]\n",
    "                \n",
    "        else:\n",
    "            final_segments[prep] = [[first,second]]\n",
    "                \n",
    "    # Case 3: more than 2 carry in sites \n",
    "    if len(carry_ins) > 2: \n",
    "        temp_dict = segment_optimization(prep,carry_ins)\n",
    "        final_segments[prep] = []\n",
    "        for val in temp_dict.values():\n",
    "            final_segments[prep].append(val)"
   ]
  },
  {
   "cell_type": "code",
   "execution_count": 175,
   "metadata": {},
   "outputs": [
    {
     "data": {
      "text/plain": [
       "{451: [[110, 6041], [516, 4790], [3831, 6040], [4791]],\n",
       " 450: [[158], [2121]],\n",
       " 190: [161],\n",
       " 419: [[168], [328]],\n",
       " 437: [[178, 473], [252, 509]],\n",
       " 415: [[179, 192]],\n",
       " 424: [[203, 5321], [4880, 4990], [4881, 5320], [4991]],\n",
       " 971: [[223], [533]],\n",
       " 214: [264],\n",
       " 455: [[426], [1170]],\n",
       " 981: [[436, 477]],\n",
       " 457: [438],\n",
       " 150: [[497], [891, 5151], [5150]],\n",
       " 412: [[605, 5221], [5220]],\n",
       " 292: [[750], [3160]],\n",
       " 301: [801],\n",
       " 405: [999],\n",
       " 982: [1171],\n",
       " 408: [[1810], [1811]],\n",
       " 218: [[2130, 4780], [2131, 4781]],\n",
       " 258: [[3161], [3830]],\n",
       " 423: [[4900], [4901]],\n",
       " 278: [[6020], [6021]]}"
      ]
     },
     "execution_count": 175,
     "metadata": {},
     "output_type": "execute_result"
    }
   ],
   "source": [
    "final_segments ## the outer list just means they are all assigned to that prep; inner list is the segment "
   ]
  }
 ],
 "metadata": {
  "kernelspec": {
   "display_name": "Python 3",
   "language": "python",
   "name": "python3"
  },
  "language_info": {
   "codemirror_mode": {
    "name": "ipython",
    "version": 3
   },
   "file_extension": ".py",
   "mimetype": "text/x-python",
   "name": "python",
   "nbconvert_exporter": "python",
   "pygments_lexer": "ipython3",
   "version": "3.7.4"
  }
 },
 "nbformat": 4,
 "nbformat_minor": 2
}
